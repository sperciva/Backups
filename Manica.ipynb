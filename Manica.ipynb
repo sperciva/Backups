{
 "cells": [
  {
   "cell_type": "code",
   "execution_count": 1,
   "id": "f5596fec",
   "metadata": {},
   "outputs": [],
   "source": [
    "import numpy as np\n",
    "import torch\n",
    "import matplotlib.pyplot as plt\n",
    "import cv2"
   ]
  },
  {
   "cell_type": "code",
   "execution_count": 2,
   "id": "fe9b19f9",
   "metadata": {},
   "outputs": [],
   "source": [
    "# function from segment anything. Used to plot masks\n",
    "def show_anns(anns):\n",
    "    if len(anns) == 0:\n",
    "        return\n",
    "    sorted_anns = sorted(anns, key=(lambda x: x['area']), reverse=True)\n",
    "    ax = plt.gca()\n",
    "    ax.set_autoscale_on(False)\n",
    "    polygons = []\n",
    "    color = []\n",
    "    for ann in sorted_anns:\n",
    "        m = ann['segmentation']\n",
    "        img = np.ones((m.shape[0], m.shape[1], 3))\n",
    "        color_mask = np.random.random((1, 3)).tolist()[0]\n",
    "        for i in range(3):\n",
    "            img[:,:,i] = color_mask[i]\n",
    "        ax.imshow(np.dstack((img, m*0.35)))"
   ]
  },
  {
   "cell_type": "markdown",
   "id": "dd2501a1",
   "metadata": {},
   "source": [
    "# Mask generation"
   ]
  },
  {
   "cell_type": "code",
   "execution_count": 3,
   "id": "05d017da",
   "metadata": {},
   "outputs": [],
   "source": [
    "import sys\n",
    "sys.path.append(\"..\")\n",
    "from segment_anything import sam_model_registry, SamAutomaticMaskGenerator, SamPredictor\n",
    "\n",
    "sam_checkpoint = \"sam_vit_h_4b8939.pth\"\n",
    "model_type = \"vit_h\"\n",
    "\n",
    "# device = \"cuda\"\n",
    "\n",
    "sam = sam_model_registry[model_type](checkpoint=sam_checkpoint)\n",
    "sam.to()\n",
    "\n",
    "mask_generator = SamAutomaticMaskGenerator(sam)"
   ]
  },
  {
   "cell_type": "code",
   "execution_count": 4,
   "id": "b82afa5a",
   "metadata": {},
   "outputs": [],
   "source": [
    "mask_generator_2 = SamAutomaticMaskGenerator(\n",
    "    model=sam,\n",
    "    points_per_side=8,\n",
    "    pred_iou_thresh=0.86,\n",
    "    stability_score_thresh=0.9,\n",
    "    crop_n_layers=1,\n",
    "    crop_n_points_downscale_factor=2,\n",
    "    min_mask_region_area=300000, # clean up small holes\n",
    ")"
   ]
  },
  {
   "cell_type": "code",
   "execution_count": 5,
   "id": "f4fbd47e",
   "metadata": {},
   "outputs": [],
   "source": [
    "# files = ['Cannabis_seeds/image288.jpg', 'Cannabis_seeds/image821.jpg']"
   ]
  },
  {
   "cell_type": "code",
   "execution_count": 6,
   "id": "7c323798",
   "metadata": {},
   "outputs": [],
   "source": [
    "brown = np.array([93.91798457472527, 74.24539142925545, 44.09861938494327])"
   ]
  },
  {
   "cell_type": "code",
   "execution_count": 7,
   "id": "196fc42d",
   "metadata": {},
   "outputs": [],
   "source": [
    "def closest(colors):\n",
    "    colors = np.array(colors)\n",
    "    distances = np.sqrt(np.sum((colors-brown)**2,axis=1))\n",
    "    index_of_smallest = np.where(distances==np.amin(distances))\n",
    "    return index_of_smallest[0][0]"
   ]
  },
  {
   "cell_type": "code",
   "execution_count": 8,
   "id": "42afbe77",
   "metadata": {},
   "outputs": [],
   "source": [
    "def bm1(mask1, mask2):\n",
    "    mask1_area = np.count_nonzero( mask1 )\n",
    "    mask2_area = np.count_nonzero( mask2 )\n",
    "    intersection = np.count_nonzero( np.logical_and( mask1, mask2 ) )\n",
    "    iou = intersection/(mask1_area+mask2_area-intersection)\n",
    "    return intersection"
   ]
  },
  {
   "cell_type": "code",
   "execution_count": null,
   "id": "6aa5f49a",
   "metadata": {},
   "outputs": [
    {
     "name": "stdout",
     "output_type": "stream",
     "text": [
      "image236.jpg\n"
     ]
    }
   ],
   "source": [
    "import os\n",
    "\n",
    "directory = 'tests'\n",
    "\n",
    "for entry in os.listdir(directory):\n",
    "    f = os.path.join(directory, entry)\n",
    "    print(entry)\n",
    "\n",
    "    image = cv2.imread(f)\n",
    "    image = cv2.cvtColor(image, cv2.COLOR_BGR2RGB)\n",
    "    \n",
    "    masks2 = mask_generator_2.generate(image)\n",
    "    print(\"masked\")\n",
    "    \n",
    "    areas_list = [masks2[i]['area'] for i in range(len(masks2))]\n",
    "    \n",
    "    big_areas = [i for i,v in enumerate(areas_list) if v > 40000]\n",
    "    print(\"found big areas\")\n",
    "    \n",
    "    list_of_colors = []\n",
    "\n",
    "    for i in big_areas:\n",
    "        mask_numbers = masks2[i]['segmentation']*1\n",
    "        mask_3d = np.stack((mask_numbers,mask_numbers,mask_numbers),axis=2).astype('uint8')\n",
    "        masked_arr = image*mask_3d\n",
    "\n",
    "        channel0 = masked_arr[:,:,0]\n",
    "        channel1 = masked_arr[:,:,1]\n",
    "        channel2 = masked_arr[:,:,2]\n",
    "\n",
    "        average0 = channel0[np.nonzero(channel0)].mean()\n",
    "        average1 = channel1[np.nonzero(channel1)].mean()\n",
    "        average2 = channel2[np.nonzero(channel2)].mean()\n",
    "\n",
    "        average_loop = np.array([average0, average1, average2])\n",
    "\n",
    "        list_of_colors.append(list(average_loop))\n",
    "    print(\"computed average colors\")\n",
    "\n",
    "    closest_color = closest(list_of_colors)\n",
    "    seed_mask_number = big_areas[closest_color]\n",
    "    print(\"got seed number\")\n",
    "    \n",
    "    for j in big_areas:\n",
    "        if j == seed_mask_number:\n",
    "            pass\n",
    "        intersection_size = bm1(masks2[seed_mask_number]['segmentation'], masks2[j]['segmentation'])\n",
    "        \n",
    "        if abs(intersection_size - masks2[j]['area']) < 500:\n",
    "            seed_mask_number = j\n",
    "    \n",
    "    mask_numbers = masks2[seed_mask_number]['segmentation']*1\n",
    "    mask_3d = np.stack((mask_numbers,mask_numbers,mask_numbers),axis=2).astype('uint8')\n",
    "    masked_arr = image*mask_3d\n",
    "    print(\"got masked array\")\n",
    "    \n",
    "    # Mask input image with binary mask\n",
    "    result = cv2.bitwise_and(image, masked_arr)\n",
    "    # Color background white\n",
    "    #result[masked_arr[:,:,3]==0] = 255 # Optional\n",
    "    result[np.where((masked_arr==[0,0,0]).all(axis=2))] = [255,255,255]\n",
    "    \n",
    "    filename, extension = os.path.splitext(entry)\n",
    "\n",
    "    # cv2.imshow('image', image)\n",
    "    # cv2.imshow('mask', mask)\n",
    "    # cv2.imshow('result', result)\n",
    "    # cv2.waitKey()\n",
    "    #plt.imshow(cv2.cvtColor(result, cv2.BGR2RGB))\n",
    "    plt.imshow(result)\n",
    "    # as opencv loads in BGR format by default, we want to show it in RGB.\n",
    "    # plt.show()\n",
    "    # plt.draw()\n",
    "    plt.savefig('outputs/'+str(filename)+'.png')"
   ]
  },
  {
   "cell_type": "code",
   "execution_count": null,
   "id": "39f32a12",
   "metadata": {},
   "outputs": [],
   "source": []
  }
 ],
 "metadata": {
  "kernelspec": {
   "display_name": "Python 3 (ipykernel)",
   "language": "python",
   "name": "python3"
  },
  "language_info": {
   "codemirror_mode": {
    "name": "ipython",
    "version": 3
   },
   "file_extension": ".py",
   "mimetype": "text/x-python",
   "name": "python",
   "nbconvert_exporter": "python",
   "pygments_lexer": "ipython3",
   "version": "3.10.9"
  }
 },
 "nbformat": 4,
 "nbformat_minor": 5
}
