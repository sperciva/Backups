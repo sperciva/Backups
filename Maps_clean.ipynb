{
 "cells": [
  {
   "cell_type": "code",
   "execution_count": 178,
   "id": "5851de00",
   "metadata": {},
   "outputs": [],
   "source": [
    "import pandas as pd\n",
    "import numpy as nps\n",
    "import json\n",
    "import ast\n",
    "import pickle\n",
    "import math\n",
    "\n",
    "import matplotlib.pyplot as plt\n",
    "from matplotlib.offsetbox import AnchoredText\n",
    "\n",
    "import geopandas\n",
    "import plotly.express as px\n",
    "from cartopy.io import shapereader"
   ]
  },
  {
   "cell_type": "code",
   "execution_count": 83,
   "id": "0b19132c",
   "metadata": {},
   "outputs": [],
   "source": [
    "data = pd.read_pickle('data_full_gender.pkl')"
   ]
  },
  {
   "cell_type": "code",
   "execution_count": 84,
   "id": "95febc0d",
   "metadata": {},
   "outputs": [],
   "source": [
    "# data = pd.read_csv('../ete3/Plt_sci_publications_geo_species_8.26.csv', low_memory=False)"
   ]
  },
  {
   "cell_type": "code",
   "execution_count": 85,
   "id": "55d99b27",
   "metadata": {},
   "outputs": [],
   "source": [
    "data = data.fillna('none')"
   ]
  },
  {
   "cell_type": "code",
   "execution_count": 86,
   "id": "a007cf66",
   "metadata": {},
   "outputs": [],
   "source": [
    "# make all gender entries into lists\n",
    "data['inferred_gender'] = [[a] if isinstance(a, str) else a for a in data['inferred_gender']]"
   ]
  },
  {
   "cell_type": "code",
   "execution_count": 87,
   "id": "1b824584",
   "metadata": {},
   "outputs": [],
   "source": [
    "data['Corresponding author geocoords'] = [i.split('; ') for i in data['Corresponding author geocoords']]"
   ]
  },
  {
   "cell_type": "code",
   "execution_count": 88,
   "id": "613497b8",
   "metadata": {
    "scrolled": true
   },
   "outputs": [],
   "source": [
    "# many of these are one author with multiple affiliations\n",
    "\n",
    "mult_corresp = []\n",
    "\n",
    "for i in range(len(data['Corresponding author Addresses'])):\n",
    "    if ';' in data.iloc[i]['Corresponding author Addresses']:\n",
    "        mult_corresp.append(i)"
   ]
  },
  {
   "cell_type": "markdown",
   "id": "f98e1bec",
   "metadata": {},
   "source": [
    "# One paper = 1 proportion"
   ]
  },
  {
   "cell_type": "code",
   "execution_count": 59,
   "id": "0dbe285d",
   "metadata": {},
   "outputs": [
    {
     "ename": "AttributeError",
     "evalue": "'list' object has no attribute 'split'",
     "output_type": "error",
     "traceback": [
      "\u001b[0;31m---------------------------------------------------------------------------\u001b[0m",
      "\u001b[0;31mAttributeError\u001b[0m                            Traceback (most recent call last)",
      "Input \u001b[0;32mIn [59]\u001b[0m, in \u001b[0;36m<cell line: 1>\u001b[0;34m()\u001b[0m\n\u001b[0;32m----> 1\u001b[0m data[\u001b[38;5;124m'\u001b[39m\u001b[38;5;124mCorresponding author geocoords\u001b[39m\u001b[38;5;124m'\u001b[39m] \u001b[38;5;241m=\u001b[39m [i\u001b[38;5;241m.\u001b[39msplit(\u001b[38;5;124m'\u001b[39m\u001b[38;5;124m; \u001b[39m\u001b[38;5;124m'\u001b[39m) \u001b[38;5;28;01mfor\u001b[39;00m i \u001b[38;5;129;01min\u001b[39;00m data[\u001b[38;5;124m'\u001b[39m\u001b[38;5;124mCorresponding author geocoords\u001b[39m\u001b[38;5;124m'\u001b[39m]]\n",
      "Input \u001b[0;32mIn [59]\u001b[0m, in \u001b[0;36m<listcomp>\u001b[0;34m(.0)\u001b[0m\n\u001b[0;32m----> 1\u001b[0m data[\u001b[38;5;124m'\u001b[39m\u001b[38;5;124mCorresponding author geocoords\u001b[39m\u001b[38;5;124m'\u001b[39m] \u001b[38;5;241m=\u001b[39m [\u001b[43mi\u001b[49m\u001b[38;5;241;43m.\u001b[39;49m\u001b[43msplit\u001b[49m(\u001b[38;5;124m'\u001b[39m\u001b[38;5;124m; \u001b[39m\u001b[38;5;124m'\u001b[39m) \u001b[38;5;28;01mfor\u001b[39;00m i \u001b[38;5;129;01min\u001b[39;00m data[\u001b[38;5;124m'\u001b[39m\u001b[38;5;124mCorresponding author geocoords\u001b[39m\u001b[38;5;124m'\u001b[39m]]\n",
      "\u001b[0;31mAttributeError\u001b[0m: 'list' object has no attribute 'split'"
     ]
    }
   ],
   "source": [
    "data['Corresponding author geocoords'] = [i.split('; ') for i in data['Corresponding author geocoords']]"
   ]
  },
  {
   "cell_type": "code",
   "execution_count": null,
   "id": "61bf9b44",
   "metadata": {},
   "outputs": [],
   "source": [
    "data['map_props'] = [1 for i in range(len(data))]"
   ]
  },
  {
   "cell_type": "code",
   "execution_count": null,
   "id": "11da70ae",
   "metadata": {},
   "outputs": [],
   "source": [
    "out = data.explode('Corresponding author geocoords')\n",
    "out['map_props'] /= out['map_props'].groupby(level=0).transform('count')"
   ]
  },
  {
   "cell_type": "code",
   "execution_count": null,
   "id": "a4fd8ad7",
   "metadata": {
    "scrolled": true
   },
   "outputs": [],
   "source": [
    "data"
   ]
  },
  {
   "cell_type": "markdown",
   "id": "2165ca3f",
   "metadata": {},
   "source": [
    "# One author = 1 proportion"
   ]
  },
  {
   "cell_type": "markdown",
   "id": "bf96c68c",
   "metadata": {},
   "source": [
    "### Case 1: One author, one location"
   ]
  },
  {
   "cell_type": "code",
   "execution_count": 89,
   "id": "7267e1b0",
   "metadata": {},
   "outputs": [],
   "source": [
    "data1 = data[data['Corresponding author geocoords'].apply(lambda x: len(x) == 1)]\n",
    "one_one = data1[data1['inferred_gender'].apply(lambda x: len(x) == 1)]"
   ]
  },
  {
   "cell_type": "code",
   "execution_count": 160,
   "id": "c8b222b7",
   "metadata": {},
   "outputs": [],
   "source": [
    "# exploding just to get geocoords and gender out of list\n",
    "one_one_ex = one_one.explode(['Corresponding author geocoords', 'inferred_gender'])\n",
    "one_one['map_props'] = [1 for i in range(len(one_one))]"
   ]
  },
  {
   "cell_type": "markdown",
   "id": "3a4e45ea",
   "metadata": {},
   "source": [
    "### Case 2: One author, multiple locations"
   ]
  },
  {
   "cell_type": "code",
   "execution_count": 91,
   "id": "8b94af3a",
   "metadata": {},
   "outputs": [],
   "source": [
    "data1 = data[data['Corresponding author geocoords'].apply(lambda x: len(x) != 1)]\n",
    "one_many = data1[data1['inferred_gender'].apply(lambda x: len(x) == 1)]"
   ]
  },
  {
   "cell_type": "code",
   "execution_count": 92,
   "id": "45cba87a",
   "metadata": {},
   "outputs": [
    {
     "name": "stderr",
     "output_type": "stream",
     "text": [
      "/tmp/ipykernel_459776/3180484956.py:1: SettingWithCopyWarning: \n",
      "A value is trying to be set on a copy of a slice from a DataFrame.\n",
      "Try using .loc[row_indexer,col_indexer] = value instead\n",
      "\n",
      "See the caveats in the documentation: https://pandas.pydata.org/pandas-docs/stable/user_guide/indexing.html#returning-a-view-versus-a-copy\n",
      "  one_many['map_props'] = [1 for i in range(len(one_many))]\n"
     ]
    }
   ],
   "source": [
    "one_many['map_props'] = [1 for i in range(len(one_many))]"
   ]
  },
  {
   "cell_type": "code",
   "execution_count": 93,
   "id": "d54347f5",
   "metadata": {
    "scrolled": true
   },
   "outputs": [],
   "source": [
    "one_many_ex = one_many.explode(['Corresponding author geocoords'])\n",
    "one_many_ex['map_props'] /= one_many_ex['map_props'].groupby(level=0).transform('count')"
   ]
  },
  {
   "cell_type": "code",
   "execution_count": 189,
   "id": "da5e96ad",
   "metadata": {},
   "outputs": [],
   "source": [
    "# explode to get gender out of brackets\n",
    "one_many_ex = one_many_ex.explode(['inferred_gender'])"
   ]
  },
  {
   "cell_type": "markdown",
   "id": "ccd122bd",
   "metadata": {},
   "source": [
    "### Case 3: Multiple authors, one location"
   ]
  },
  {
   "cell_type": "code",
   "execution_count": 94,
   "id": "819c33cf",
   "metadata": {},
   "outputs": [],
   "source": [
    "data1 = data[data['Corresponding author geocoords'].apply(lambda x: len(x) == 1)]\n",
    "many_one = data1[data1['inferred_gender'].apply(lambda x: len(x) != 1)]"
   ]
  },
  {
   "cell_type": "code",
   "execution_count": 95,
   "id": "81457b16",
   "metadata": {},
   "outputs": [],
   "source": [
    "many_one_ex = many_one.explode(['inferred_gender', 'first and last names'])"
   ]
  },
  {
   "cell_type": "code",
   "execution_count": 130,
   "id": "01cacd29",
   "metadata": {},
   "outputs": [],
   "source": [
    "# explode again to get geocoords out of list\n",
    "many_one_ex = many_one_ex.explode(['Corresponding author geocoords'])"
   ]
  },
  {
   "cell_type": "code",
   "execution_count": 131,
   "id": "433a7413",
   "metadata": {
    "scrolled": true
   },
   "outputs": [],
   "source": [
    "many_one_ex['map_props'] = [1 for i in range(len(many_one_ex))]"
   ]
  },
  {
   "cell_type": "markdown",
   "id": "4576cfea",
   "metadata": {},
   "source": [
    "### Case 4: Multiple authors, multiple locations"
   ]
  },
  {
   "cell_type": "code",
   "execution_count": 97,
   "id": "86bff8d7",
   "metadata": {
    "scrolled": true
   },
   "outputs": [],
   "source": [
    "data1 = data[data['Corresponding author geocoords'].apply(lambda x: len(x) != 1)]\n",
    "many_many = data1[data1['inferred_gender'].apply(lambda x: len(x) != 1)]"
   ]
  },
  {
   "cell_type": "code",
   "execution_count": 98,
   "id": "4704e362",
   "metadata": {},
   "outputs": [],
   "source": [
    "# if the # of corresp author addresses = # of geocoords but there is a repeated author in one of the addresses,\n",
    "# just drop it for now"
   ]
  },
  {
   "cell_type": "code",
   "execution_count": 104,
   "id": "8be01e10",
   "metadata": {
    "scrolled": true
   },
   "outputs": [],
   "source": [
    "# these are cases with multiple corresp authors and one cannot be determined. Just drop\n",
    "to_drop = []\n",
    "for i in many_many.index:\n",
    "    if len(many_many.loc[i]['inferred_gender']) !=  len(many_many.loc[i]['Corresponding author geocoords']):\n",
    "        to_drop.append(i)"
   ]
  },
  {
   "cell_type": "code",
   "execution_count": 107,
   "id": "511c6818",
   "metadata": {
    "scrolled": true
   },
   "outputs": [],
   "source": [
    "many_many = many_many[~many_many.index.isin(to_drop)]"
   ]
  },
  {
   "cell_type": "code",
   "execution_count": 108,
   "id": "7823ad54",
   "metadata": {
    "scrolled": true
   },
   "outputs": [],
   "source": [
    "many_many_ex = many_many.explode(['inferred_gender','Corresponding author geocoords'])"
   ]
  },
  {
   "cell_type": "code",
   "execution_count": 115,
   "id": "f2b5a3f6",
   "metadata": {},
   "outputs": [],
   "source": [
    "many_many_ex['map_props'] = [1 for i in range(len(many_many_ex))]"
   ]
  },
  {
   "cell_type": "markdown",
   "id": "36bae2dc",
   "metadata": {},
   "source": [
    "# Mapping"
   ]
  },
  {
   "cell_type": "code",
   "execution_count": 190,
   "id": "b42cb038",
   "metadata": {},
   "outputs": [],
   "source": [
    "out = pd.concat([one_one_ex, one_many_ex, many_one_ex, many_many_ex])"
   ]
  },
  {
   "cell_type": "code",
   "execution_count": 191,
   "id": "479b7129",
   "metadata": {},
   "outputs": [],
   "source": [
    "out['old_index'] = out.index"
   ]
  },
  {
   "cell_type": "code",
   "execution_count": 192,
   "id": "40b39e4d",
   "metadata": {},
   "outputs": [],
   "source": [
    "out = out.reset_index(drop=True)"
   ]
  },
  {
   "cell_type": "code",
   "execution_count": 193,
   "id": "6ebafdbc",
   "metadata": {},
   "outputs": [],
   "source": [
    "# do this after exploding since exploding needs to be on strings\n",
    "out['Corresponding author geocoords'] = [ast.literal_eval(x) for x in out['Corresponding author geocoords']]"
   ]
  },
  {
   "cell_type": "code",
   "execution_count": 194,
   "id": "c072f888",
   "metadata": {},
   "outputs": [],
   "source": [
    "out = out.join(out['Corresponding author geocoords'].apply(pd.Series)).rename(columns={0:'Latitude', 1:'Longitude'})"
   ]
  },
  {
   "cell_type": "code",
   "execution_count": 195,
   "id": "0fee07dd",
   "metadata": {},
   "outputs": [],
   "source": [
    "# these are polygons representing states and provinces\n",
    "shpfilename = shapereader.natural_earth('10m', 'cultural', 'admin_1_states_provinces')\n",
    "# shpfilename2 = shapereader.natural_earth('10m', 'cultural', 'admin_1_states_provinces_lines')"
   ]
  },
  {
   "cell_type": "code",
   "execution_count": 196,
   "id": "45cc70be",
   "metadata": {},
   "outputs": [],
   "source": [
    "df2 = geopandas.read_file(shpfilename, encoding='utf-8')"
   ]
  },
  {
   "cell_type": "code",
   "execution_count": 197,
   "id": "06ce09ae",
   "metadata": {},
   "outputs": [],
   "source": [
    "gdf = geopandas.GeoDataFrame(\n",
    "    out, geometry=geopandas.points_from_xy(out.Longitude, out.Latitude))"
   ]
  },
  {
   "cell_type": "code",
   "execution_count": 198,
   "id": "3cbc906e",
   "metadata": {},
   "outputs": [
    {
     "name": "stderr",
     "output_type": "stream",
     "text": [
      "/home/sarah/anaconda3/envs/nlp/lib/python3.8/site-packages/IPython/core/interactiveshell.py:3309: FutureWarning: The `op` parameter is deprecated and will be removed in a future release. Please use the `predicate` parameter instead.\n",
      "  if await self.run_code(code, result, async_=asy):\n"
     ]
    }
   ],
   "source": [
    "# about 2.5k missing locations\n",
    "gdf_out = geopandas.sjoin(gdf, df2[['diss_me', 'geometry']], how='left', op='within')"
   ]
  },
  {
   "cell_type": "code",
   "execution_count": 199,
   "id": "875507ae",
   "metadata": {
    "scrolled": true
   },
   "outputs": [],
   "source": [
    "missing_locs = list(gdf_out[gdf_out['diss_me'].isnull()].index)"
   ]
  },
  {
   "cell_type": "code",
   "execution_count": 200,
   "id": "381d6c30",
   "metadata": {},
   "outputs": [],
   "source": [
    "# takes like 3 min\n",
    "fixed_locs = [df2[['geometry']].distance(gdf_out.loc[i]['geometry']).sort_values().index[0] for i in missing_locs]"
   ]
  },
  {
   "cell_type": "code",
   "execution_count": 201,
   "id": "e616a583",
   "metadata": {},
   "outputs": [],
   "source": [
    "for i in range(len(missing_locs)):\n",
    "    gdf_out.loc[missing_locs[i], 'diss_me'] = df2.loc[fixed_locs[i]]['diss_me']\n",
    "    gdf_out.loc[missing_locs[i],'index_right'] = fixed_locs[i]"
   ]
  },
  {
   "cell_type": "code",
   "execution_count": 202,
   "id": "0a40c0bf",
   "metadata": {},
   "outputs": [
    {
     "data": {
      "text/plain": [
       "Author Full Names         object\n",
       "Article Title             object\n",
       "Journal                   object\n",
       "impact factor (2020)     float64\n",
       "Author Keywords           object\n",
       "                          ...   \n",
       "Latitude                 float64\n",
       "Longitude                float64\n",
       "geometry                geometry\n",
       "index_right              float64\n",
       "diss_me                    int64\n",
       "Length: 67, dtype: object"
      ]
     },
     "execution_count": 202,
     "metadata": {},
     "output_type": "execute_result"
    }
   ],
   "source": [
    "gdf_out.astype({'diss_me': 'int64'}).dtypes"
   ]
  },
  {
   "cell_type": "code",
   "execution_count": 203,
   "id": "b6031cce",
   "metadata": {
    "scrolled": true
   },
   "outputs": [],
   "source": [
    "gender_props = gdf_out[['map_props','diss_me','inferred_gender']]"
   ]
  },
  {
   "cell_type": "code",
   "execution_count": 204,
   "id": "fe16d44e",
   "metadata": {},
   "outputs": [],
   "source": [
    "gender_props = gender_props.dropna(axis=0, subset='inferred_gender')"
   ]
  },
  {
   "cell_type": "code",
   "execution_count": 205,
   "id": "3f029870",
   "metadata": {},
   "outputs": [],
   "source": [
    "# gender_props = gender_props[~gender_props['inferred_gender'].isin(['unknown'])]"
   ]
  },
  {
   "cell_type": "code",
   "execution_count": 206,
   "id": "6b6e164b",
   "metadata": {},
   "outputs": [],
   "source": [
    "gender_props = gender_props.replace({'male': 0, 'female': 1, 'none': math.nan, 'unknown': math.nan})"
   ]
  },
  {
   "cell_type": "code",
   "execution_count": 207,
   "id": "e509eba2",
   "metadata": {},
   "outputs": [
    {
     "data": {
      "text/plain": [
       "0           male\n",
       "1         female\n",
       "2         female\n",
       "3         female\n",
       "4         female\n",
       "           ...  \n",
       "320638      male\n",
       "320639      male\n",
       "320640      male\n",
       "320641      male\n",
       "320642       NaN\n",
       "Name: inferred_gender, Length: 320643, dtype: object"
      ]
     },
     "execution_count": 207,
     "metadata": {},
     "output_type": "execute_result"
    }
   ],
   "source": [
    "gdf_out['inferred_gender']"
   ]
  },
  {
   "cell_type": "code",
   "execution_count": 208,
   "id": "29d0e097",
   "metadata": {},
   "outputs": [
    {
     "data": {
      "text/plain": [
       "map_props          float64\n",
       "diss_me            float64\n",
       "inferred_gender    float64\n",
       "dtype: object"
      ]
     },
     "execution_count": 208,
     "metadata": {},
     "output_type": "execute_result"
    }
   ],
   "source": [
    "gender_props.astype({'inferred_gender': 'float64'}).dtypes"
   ]
  },
  {
   "cell_type": "code",
   "execution_count": 209,
   "id": "83e2fe7c",
   "metadata": {},
   "outputs": [],
   "source": [
    "gender_props['inferred_gender_props'] = gender_props['map_props']*gender_props['inferred_gender']"
   ]
  },
  {
   "cell_type": "code",
   "execution_count": 210,
   "id": "a9618d97",
   "metadata": {
    "scrolled": true
   },
   "outputs": [],
   "source": [
    "final_numbers = gender_props.groupby(by=['diss_me']).sum()"
   ]
  },
  {
   "cell_type": "code",
   "execution_count": 211,
   "id": "b7afaf1d",
   "metadata": {},
   "outputs": [],
   "source": [
    "final_numbers = final_numbers.reset_index()"
   ]
  },
  {
   "cell_type": "code",
   "execution_count": 212,
   "id": "763c2156",
   "metadata": {},
   "outputs": [],
   "source": [
    "final_numbers['final_gender_prop'] = final_numbers['inferred_gender_props']/final_numbers['map_props']"
   ]
  },
  {
   "cell_type": "code",
   "execution_count": 213,
   "id": "065a5103",
   "metadata": {},
   "outputs": [],
   "source": [
    "# Opening JSON file\n",
    "f = open('admin1.geojson')\n",
    "  \n",
    "# returns JSON object as \n",
    "# a dictionary\n",
    "geo_data = json.load(f)\n",
    "  \n",
    "# Closing file\n",
    "f.close()"
   ]
  },
  {
   "cell_type": "code",
   "execution_count": 1,
   "id": "4f50a509",
   "metadata": {},
   "outputs": [
    {
     "ename": "NameError",
     "evalue": "name 'px' is not defined",
     "output_type": "error",
     "traceback": [
      "\u001b[0;31m---------------------------------------------------------------------------\u001b[0m",
      "\u001b[0;31mNameError\u001b[0m                                 Traceback (most recent call last)",
      "Input \u001b[0;32mIn [1]\u001b[0m, in \u001b[0;36m<cell line: 1>\u001b[0;34m()\u001b[0m\n\u001b[0;32m----> 1\u001b[0m fig \u001b[38;5;241m=\u001b[39m \u001b[43mpx\u001b[49m\u001b[38;5;241m.\u001b[39mchoropleth(final_numbers, geojson\u001b[38;5;241m=\u001b[39mgeo_data, color\u001b[38;5;241m=\u001b[39m\u001b[38;5;124m\"\u001b[39m\u001b[38;5;124mfinal_gender_prop\u001b[39m\u001b[38;5;124m\"\u001b[39m,\n\u001b[1;32m      2\u001b[0m                     locations\u001b[38;5;241m=\u001b[39m\u001b[38;5;124m\"\u001b[39m\u001b[38;5;124mdiss_me\u001b[39m\u001b[38;5;124m\"\u001b[39m, featureidkey\u001b[38;5;241m=\u001b[39m\u001b[38;5;124m\"\u001b[39m\u001b[38;5;124mproperties.id\u001b[39m\u001b[38;5;124m\"\u001b[39m,\n\u001b[1;32m      3\u001b[0m                     projection\u001b[38;5;241m=\u001b[39m\u001b[38;5;124m\"\u001b[39m\u001b[38;5;124mrobinson\u001b[39m\u001b[38;5;124m\"\u001b[39m\n\u001b[1;32m      4\u001b[0m                    )\u001b[38;5;241m.\u001b[39mupdate_layout(\n\u001b[1;32m      5\u001b[0m     title_text\u001b[38;5;241m=\u001b[39m\u001b[38;5;124m\"\u001b[39m\u001b[38;5;124mL\u001b[39m\u001b[38;5;124m'\u001b[39m\u001b[38;5;124métat de la sous-nutrition dans le monde en 2017\u001b[39m\u001b[38;5;124m\"\u001b[39m,\n\u001b[1;32m      6\u001b[0m     geo\u001b[38;5;241m=\u001b[39m\u001b[38;5;28mdict\u001b[39m(\n\u001b[1;32m      7\u001b[0m         \u001b[38;5;66;03m# landcolor=\"lightgray\",\u001b[39;00m\n\u001b[1;32m      8\u001b[0m         \u001b[38;5;66;03m# showland=True,\u001b[39;00m\n\u001b[1;32m      9\u001b[0m         showcountries\u001b[38;5;241m=\u001b[39m\u001b[38;5;28;01mTrue\u001b[39;00m,\n\u001b[1;32m     10\u001b[0m         countrycolor\u001b[38;5;241m=\u001b[39m\u001b[38;5;124m\"\u001b[39m\u001b[38;5;124mgray\u001b[39m\u001b[38;5;124m\"\u001b[39m,\n\u001b[1;32m     11\u001b[0m         countrywidth\u001b[38;5;241m=\u001b[39m\u001b[38;5;241m0.5\u001b[39m,\n\u001b[1;32m     12\u001b[0m         showframe\u001b[38;5;241m=\u001b[39m\u001b[38;5;28;01mFalse\u001b[39;00m,\n\u001b[1;32m     13\u001b[0m         showcoastlines\u001b[38;5;241m=\u001b[39m\u001b[38;5;28;01mFalse\u001b[39;00m,\n\u001b[1;32m     14\u001b[0m         \u001b[38;5;66;03m# projection_type=\"equirectangular\",\u001b[39;00m\n\u001b[1;32m     15\u001b[0m     ))\n\u001b[1;32m     16\u001b[0m fig\u001b[38;5;241m.\u001b[39mupdate_geos(fitbounds\u001b[38;5;241m=\u001b[39m\u001b[38;5;124m\"\u001b[39m\u001b[38;5;124mlocations\u001b[39m\u001b[38;5;124m\"\u001b[39m, visible\u001b[38;5;241m=\u001b[39m\u001b[38;5;28;01mFalse\u001b[39;00m)\n\u001b[1;32m     17\u001b[0m fig\u001b[38;5;241m.\u001b[39mupdate_layout(margin\u001b[38;5;241m=\u001b[39m{\u001b[38;5;124m\"\u001b[39m\u001b[38;5;124mr\u001b[39m\u001b[38;5;124m\"\u001b[39m:\u001b[38;5;241m0\u001b[39m,\u001b[38;5;124m\"\u001b[39m\u001b[38;5;124mt\u001b[39m\u001b[38;5;124m\"\u001b[39m:\u001b[38;5;241m0\u001b[39m,\u001b[38;5;124m\"\u001b[39m\u001b[38;5;124ml\u001b[39m\u001b[38;5;124m\"\u001b[39m:\u001b[38;5;241m0\u001b[39m,\u001b[38;5;124m\"\u001b[39m\u001b[38;5;124mb\u001b[39m\u001b[38;5;124m\"\u001b[39m:\u001b[38;5;241m0\u001b[39m})\n",
      "\u001b[0;31mNameError\u001b[0m: name 'px' is not defined"
     ]
    }
   ],
   "source": [
    "fig = px.choropleth(final_numbers, geojson=geo_data, color=\"final_gender_prop\",\n",
    "                    locations=\"diss_me\", featureidkey=\"properties.id\",\n",
    "                    projection=\"robinson\"\n",
    "                   ).update_layout(\n",
    "    title_text=\"L'état de la sous-nutrition dans le monde en 2017\",\n",
    "    geo=dict(\n",
    "        # landcolor=\"lightgray\",\n",
    "        # showland=True,\n",
    "        showcountries=True,\n",
    "        countrycolor=\"gray\",\n",
    "        countrywidth=0.5,\n",
    "        showframe=False,\n",
    "        showcoastlines=False,\n",
    "        # projection_type=\"equirectangular\",\n",
    "    ))\n",
    "fig.update_geos(fitbounds=\"locations\", visible=False)\n",
    "fig.update_layout(margin={\"r\":0,\"t\":0,\"l\":0,\"b\":0})\n",
    "\n",
    "fig.update_traces(marker_line_width=0)\n",
    "\n",
    "fig.show()\n",
    "fig.write_html(\"map.html\")"
   ]
  },
  {
   "cell_type": "code",
   "execution_count": null,
   "id": "46ada20a",
   "metadata": {},
   "outputs": [],
   "source": []
  }
 ],
 "metadata": {
  "kernelspec": {
   "display_name": "Python 3 (ipykernel)",
   "language": "python",
   "name": "python3"
  },
  "language_info": {
   "codemirror_mode": {
    "name": "ipython",
    "version": 3
   },
   "file_extension": ".py",
   "mimetype": "text/x-python",
   "name": "python",
   "nbconvert_exporter": "python",
   "pygments_lexer": "ipython3",
   "version": "3.8.13"
  }
 },
 "nbformat": 4,
 "nbformat_minor": 5
}
