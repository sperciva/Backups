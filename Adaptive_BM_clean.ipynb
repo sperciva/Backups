{
 "cells": [
  {
   "cell_type": "code",
   "execution_count": 1,
   "id": "b5ff5e38",
   "metadata": {},
   "outputs": [],
   "source": [
    "import numpy as np\n",
    "import pandas as pd\n",
    "import networkx as nx\n",
    "\n",
    "from matplotlib import pyplot as plt\n",
    "%matplotlib inline\n",
    "\n",
    "from pyballmapper import BallMapper\n",
    "\n",
    "# to generate data\n",
    "from sklearn import datasets\n",
    "\n",
    "# for finding epsilon net\n",
    "from tqdm.notebook import tqdm\n",
    "\n",
    "# for adaptive mapper\n",
    "from math import log2, log, pi"
   ]
  },
  {
   "cell_type": "markdown",
   "id": "56003e05",
   "metadata": {},
   "source": [
    "# Create data and initial ball mapper"
   ]
  },
  {
   "cell_type": "code",
   "execution_count": 2,
   "id": "d132b717",
   "metadata": {},
   "outputs": [],
   "source": [
    "X, l = datasets.make_circles(n_samples=200,\n",
    "                                 shuffle=True,\n",
    "                                 noise=0.01,\n",
    "                                 random_state=42,\n",
    "                                 factor=0.4)"
   ]
  },
  {
   "cell_type": "code",
   "execution_count": 3,
   "id": "ccc7665a",
   "metadata": {},
   "outputs": [
    {
     "data": {
      "image/png": "[encoded data removed]",
      "text/plain": [
       "<Figure size 432x288 with 1 Axes>"
      ]
     },
     "metadata": {
      "needs_background": "light"
     },
     "output_type": "display_data"
    }
   ],
   "source": [
    "plt.scatter(X[:,0], X[:,1], label = \"original\")\n",
    "plt.legend()\n",
    "plt.show()"
   ]
  },
  {
   "cell_type": "code",
   "execution_count": 4,
   "id": "d8e88882",
   "metadata": {},
   "outputs": [],
   "source": [
    "bm = BallMapper(points = X, # the pointcloud, as a numpy array\n",
    "                epsilon = 0.25)            # the radius of the balls"
   ]
  },
  {
   "cell_type": "code",
   "execution_count": 5,
   "id": "52e10fc3",
   "metadata": {},
   "outputs": [
    {
     "data": {
      "image/png": "[encoded data removed]",
      "text/plain": [
       "<Figure size 432x288 with 1 Axes>"
      ]
     },
     "metadata": {},
     "output_type": "display_data"
    }
   ],
   "source": [
    "# Ball mapper doesn't work well regardless of epsilon\n",
    "nx.draw_networkx(bm.Graph, \n",
    "                 pos=nx.spring_layout(bm.Graph, seed=24))"
   ]
  },
  {
   "cell_type": "markdown",
   "id": "7f037bb3",
   "metadata": {},
   "source": [
    "# Function to find initial hard clustering"
   ]
  },
  {
   "cell_type": "code",
   "execution_count": 145,
   "id": "ea8ed0b9",
   "metadata": {},
   "outputs": [],
   "source": [
    "def hard_clustering(points, order, epsilon, distance):\n",
    "    \n",
    "    landmarks = []\n",
    "    \n",
    "    # get epsilon net\n",
    "    for idx_p in order:\n",
    "\n",
    "        # current point\n",
    "        p = points[idx_p]\n",
    "        \n",
    "        is_covered = False\n",
    "\n",
    "        for idx_v in landmarks:\n",
    "            if distance(p, points[idx_v]) <= epsilon:\n",
    "                is_covered = True\n",
    "                break\n",
    "                \n",
    "        if not is_covered:\n",
    "            landmarks.append(idx_p)\n",
    "            \n",
    "    points_covered_by_landmarks = dict()\n",
    "    for idx_v in landmarks:\n",
    "        points_covered_by_landmarks[idx_v] = []\n",
    "        for idx_p in order:\n",
    "            if distance(points[idx_p], points[idx_v]) <= epsilon:\n",
    "                points_covered_by_landmarks[idx_v].append(idx_p)\n",
    "                \n",
    "    # get hard clustering\n",
    "    distance_array = np.ones((len(landmarks),len(order)))\n",
    "\n",
    "    for i,k in enumerate(landmarks):\n",
    "        for j in points_covered_by_landmarks[k]:\n",
    "            distance_array[i][order.index(j)] = distance(points[k],points[j])\n",
    "    \n",
    "    clustering_indices = np.argmin(distance_array, axis=0)\n",
    "    \n",
    "    clustering = [landmarks[i] for i in clustering_indices]\n",
    "    \n",
    "    return landmarks, clustering, points_covered_by_landmarks, distance_array"
   ]
  },
  {
   "cell_type": "code",
   "execution_count": 125,
   "id": "a53f37d4",
   "metadata": {},
   "outputs": [],
   "source": [
    "distance_function = lambda x, y : np.linalg.norm(x - y)"
   ]
  },
  {
   "cell_type": "code",
   "execution_count": 146,
   "id": "cd1bf059",
   "metadata": {
    "scrolled": true
   },
   "outputs": [],
   "source": [
    "test_clustering = hard_clustering(X, range(len(X)), 0.2, distance_function)"
   ]
  },
  {
   "cell_type": "code",
   "execution_count": 137,
   "id": "2c7f38f5",
   "metadata": {},
   "outputs": [],
   "source": [
    "testlist = [43,6,8,2]"
   ]
  },
  {
   "cell_type": "code",
   "execution_count": 138,
   "id": "9189f966",
   "metadata": {},
   "outputs": [
    {
     "data": {
      "text/plain": [
       "2"
      ]
     },
     "execution_count": 138,
     "metadata": {},
     "output_type": "execute_result"
    }
   ],
   "source": [
    "testlist.index(8)"
   ]
  },
  {
   "cell_type": "markdown",
   "id": "cf2e02e0",
   "metadata": {},
   "source": [
    "# Function to compute BIC"
   ]
  },
  {
   "cell_type": "code",
   "execution_count": 147,
   "id": "b05e1d22",
   "metadata": {},
   "outputs": [],
   "source": [
    "def bic_centroid(X, c, assignments, BIC=True):\n",
    "    '''\n",
    "    Method for computing the BIC or AIC. \n",
    "    @param: X - the point cloud to evaluate over. n points x d dimensions\n",
    "    @param: c - cluster centroids. c centroids x d dimensions\n",
    "    @params: assigments - Cluster assignments for n points.\n",
    "    @params: BIC - Defaults to True. Setting False computes the AIC.\n",
    "    '''\n",
    "    k = len(c)\n",
    "    d = X.shape[1]\n",
    "    R = X.shape[0]\n",
    "    var = 0\n",
    "    log_term = 0\n",
    "\n",
    "    # Sometimes, in sparse cases, a node gets completely split and all members join the neighbors\n",
    "    empty_clusters = []\n",
    "    set_assignments = set(assignments)\n",
    "    for i in range(k):\n",
    "        if i not in set_assignments:\n",
    "            empty_clusters.append(i)\n",
    "\n",
    "    assignments = np.asarray(assignments, dtype=int)\n",
    "    for i in range(k):\n",
    "        if i in empty_clusters:\n",
    "            continue\n",
    "        cluster_members = X[assignments == i]\n",
    "        log_term += cluster_members.shape[0] * \\\n",
    "            (log(cluster_members.shape[0]) - log(R))\n",
    "        sum_squares = np.linalg.norm(cluster_members - c[i], axis=1) ** 2\n",
    "        var = var + sum_squares.sum()\n",
    "    k = k - len(empty_clusters)\n",
    "    var = var / (R - k)\n",
    "    t2 = -1 * (R*d / 2) * log(2*pi*var)\n",
    "    t3 = -1 * (1 / 2) * (R-k)\n",
    "    llh = log_term + t2 + t3\n",
    "    if BIC:\n",
    "        return llh - ((k * (d+1))/2) * log(R)  # bic\n",
    "    else:\n",
    "        return 2 * llh - ((k * (d + 1))) * 2  # aic"
   ]
  },
  {
   "cell_type": "code",
   "execution_count": 148,
   "id": "12fced7b",
   "metadata": {},
   "outputs": [
    {
     "data": {
      "text/plain": [
       "-823.2657356801681"
      ]
     },
     "execution_count": 148,
     "metadata": {},
     "output_type": "execute_result"
    }
   ],
   "source": [
    "bic_centroid(X, X[test_clustering[0]], test_clustering[1])"
   ]
  },
  {
   "cell_type": "markdown",
   "id": "9f7b16f0",
   "metadata": {},
   "source": [
    "# Function to split a ball"
   ]
  },
  {
   "cell_type": "code",
   "execution_count": null,
   "id": "4076aa15",
   "metadata": {},
   "outputs": [],
   "source": [
    "# centers of clusters will always be pre-existing points, so use point labels as cluster labels"
   ]
  },
  {
   "cell_type": "code",
   "execution_count": 149,
   "id": "a4da4657",
   "metadata": {},
   "outputs": [],
   "source": [
    "test_clustering2 = hard_clustering(X, [11, 14, 15, 67, 83, 126, 140, 141, 142, 150, 151, 163, 193, 198], 0.1, distance_function)"
   ]
  },
  {
   "cell_type": "code",
   "execution_count": null,
   "id": "196cad4e",
   "metadata": {},
   "outputs": [],
   "source": []
  }
 ],
 "metadata": {
  "kernelspec": {
   "display_name": "Python 3 (ipykernel)",
   "language": "python",
   "name": "python3"
  },
  "language_info": {
   "codemirror_mode": {
    "name": "ipython",
    "version": 3
   },
   "file_extension": ".py",
   "mimetype": "text/x-python",
   "name": "python",
   "nbconvert_exporter": "python",
   "pygments_lexer": "ipython3",
   "version": "3.10.4"
  }
 },
 "nbformat": 4,
 "nbformat_minor": 5
}
