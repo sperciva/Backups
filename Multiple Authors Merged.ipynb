{
 "cells": [
  {
   "cell_type": "code",
   "execution_count": 1,
   "id": "15cfb703",
   "metadata": {},
   "outputs": [],
   "source": [
    "import pandas as pd\n",
    "import re\n",
    "import numpy as np\n",
    "import regex"
   ]
  },
  {
   "cell_type": "code",
   "execution_count": 2,
   "id": "482a8fef",
   "metadata": {},
   "outputs": [],
   "source": [
    "data = pd.read_csv('../ete3/Plt_sci_publications_geo_species_8.26.csv', low_memory=False)"
   ]
  },
  {
   "cell_type": "markdown",
   "id": "c61725c2",
   "metadata": {},
   "source": [
    "# Get dict of names and genders to reduce calls to GenderAPI"
   ]
  },
  {
   "cell_type": "code",
   "execution_count": 3,
   "id": "abc3b434",
   "metadata": {},
   "outputs": [],
   "source": [
    "names_dict = data[['First_names_currated', 'inferred_gender']].dropna()"
   ]
  },
  {
   "cell_type": "code",
   "execution_count": 4,
   "id": "2c09ce58",
   "metadata": {},
   "outputs": [],
   "source": [
    "names_dict['First_names_currated'] = names_dict['First_names_currated'].str.strip()"
   ]
  },
  {
   "cell_type": "code",
   "execution_count": 5,
   "id": "09595af7",
   "metadata": {},
   "outputs": [],
   "source": [
    "# need to drop duplicates here otherwise issues when merging\n",
    "names_dict = names_dict.drop_duplicates(subset=['First_names_currated'])"
   ]
  },
  {
   "cell_type": "code",
   "execution_count": 6,
   "id": "41203824",
   "metadata": {},
   "outputs": [],
   "source": [
    "names_dict = names_dict.rename(columns = {'First_names_currated': 'First name'})"
   ]
  },
  {
   "cell_type": "code",
   "execution_count": 7,
   "id": "d22b70aa",
   "metadata": {},
   "outputs": [],
   "source": [
    "diff_loc_enriched = pd.read_csv('diff_location_enriched.csv')"
   ]
  },
  {
   "cell_type": "code",
   "execution_count": 8,
   "id": "7700e24c",
   "metadata": {},
   "outputs": [],
   "source": [
    "one_loc_enriched = pd.read_csv('one_location_enriched.csv')"
   ]
  },
  {
   "cell_type": "code",
   "execution_count": 9,
   "id": "634cecad",
   "metadata": {},
   "outputs": [],
   "source": [
    "names_dict_diff = diff_loc_enriched[['First name', 'ga_gender']]\n",
    "names_dict_diff = names_dict_diff.rename(columns = {'ga_gender': 'inferred_gender'})"
   ]
  },
  {
   "cell_type": "code",
   "execution_count": 10,
   "id": "d7b5bc2a",
   "metadata": {},
   "outputs": [],
   "source": [
    "names_dict_one = one_loc_enriched[['First name', 'ga_gender']]\n",
    "names_dict_one = names_dict_one.rename(columns = {'ga_gender': 'inferred_gender'})"
   ]
  },
  {
   "cell_type": "code",
   "execution_count": 11,
   "id": "c8c5963c",
   "metadata": {},
   "outputs": [],
   "source": [
    "names_dict_final = pd.concat([names_dict, names_dict_diff, names_dict_one])"
   ]
  },
  {
   "cell_type": "code",
   "execution_count": 334,
   "id": "1e0e6858",
   "metadata": {},
   "outputs": [],
   "source": [
    "names_dict_final = names_dict_final.drop_duplicates(subset='First name')"
   ]
  },
  {
   "cell_type": "markdown",
   "id": "c5d08ec7",
   "metadata": {},
   "source": [
    "# Fix problems"
   ]
  },
  {
   "cell_type": "markdown",
   "id": "53cba6e0",
   "metadata": {},
   "source": [
    "Running the line\n",
    "    \n",
    "    re.findall(one_loc_out.iloc[i]['Corresponding_author_last_name']+\"+[^;]*\", one_loc_out.iloc[i]['Author Full Names'])\n",
    "    \n",
    "in case 2.1 made me realize entries 24144, 25071, and 40426 have an extra semicolon in the corresp. author addresses. Fix these manually here."
   ]
  },
  {
   "cell_type": "code",
   "execution_count": 12,
   "id": "8182c4b3",
   "metadata": {},
   "outputs": [],
   "source": [
    "for i in [24144, 25071, 40426]:\n",
    "    data.at[i,'Corresponding author Addresses'] = data.loc[i]['Corresponding author Addresses'].replace(';', '')"
   ]
  },
  {
   "cell_type": "markdown",
   "id": "7b1242f4",
   "metadata": {},
   "source": [
    "# Get first names"
   ]
  },
  {
   "cell_type": "code",
   "execution_count": 13,
   "id": "50d5654d",
   "metadata": {},
   "outputs": [],
   "source": [
    "# if they have no names we don't care\n",
    "data = data.dropna(subset='Author Full Names')"
   ]
  },
  {
   "cell_type": "code",
   "execution_count": 14,
   "id": "ffeadd5c",
   "metadata": {},
   "outputs": [],
   "source": [
    "# gather all names of the form Lastname, AB or Lastname, A.B.\n",
    "all_initials = []\n",
    "\n",
    "for i in data.index:\n",
    "    author_list = data.loc[i]['Author Full Names'].split('; ')\n",
    "    if len([x for x in author_list if not re.findall(', [A-Z]{1,}$',x) and not re.findall(', [A-Z]. [A-Z].$',x) and not re.findall(', [A-Z].$',x)]) == 0:\n",
    "        all_initials.append(i)\n",
    "\n",
    "# remove entries with names found above from the dataset\n",
    "data = data[~data.index.isin(all_initials)]"
   ]
  },
  {
   "cell_type": "code",
   "execution_count": 15,
   "id": "917d6a20",
   "metadata": {},
   "outputs": [],
   "source": [
    "# many of these are one author with multiple affiliations\n",
    "\n",
    "mult_corresp = []\n",
    "\n",
    "for i in range(len(data['Corresponding author Addresses'])):\n",
    "    if ';' in data.iloc[i]['Corresponding author Addresses']:\n",
    "        mult_corresp.append(i)"
   ]
  },
  {
   "cell_type": "markdown",
   "id": "02314e6e",
   "metadata": {},
   "source": [
    "## Case 1: one author, mult affiliations\n",
    "Don't need to do anything with these"
   ]
  },
  {
   "cell_type": "code",
   "execution_count": 16,
   "id": "937bdaee",
   "metadata": {},
   "outputs": [],
   "source": [
    "one_author = []\n",
    "\n",
    "for i in mult_corresp:\n",
    "    test_str = data.iloc[i]['Corresponding author Addresses']\n",
    "    test_str_list = test_str.split(';')\n",
    "    stripped_list = [re.findall('[^()]+', i)[0].strip() for i in test_str_list]\n",
    "    \n",
    "    if len(set(stripped_list)) == 1:\n",
    "        one_author.append(i)"
   ]
  },
  {
   "cell_type": "markdown",
   "id": "8521fa37",
   "metadata": {},
   "source": [
    "## Case 2: mult authors"
   ]
  },
  {
   "cell_type": "code",
   "execution_count": 17,
   "id": "42e71d55",
   "metadata": {},
   "outputs": [],
   "source": [
    "# get only true mult authors\n",
    "mult_authors = sorted(list(set(mult_corresp)-set(one_author)))"
   ]
  },
  {
   "cell_type": "code",
   "execution_count": 18,
   "id": "e49b0095",
   "metadata": {},
   "outputs": [],
   "source": [
    "mult_authors_df = data.iloc[mult_authors]"
   ]
  },
  {
   "cell_type": "code",
   "execution_count": 19,
   "id": "c75c6774",
   "metadata": {},
   "outputs": [
    {
     "name": "stderr",
     "output_type": "stream",
     "text": [
      "/tmp/ipykernel_451133/4070540700.py:1: SettingWithCopyWarning: \n",
      "A value is trying to be set on a copy of a slice from a DataFrame.\n",
      "Try using .loc[row_indexer,col_indexer] = value instead\n",
      "\n",
      "See the caveats in the documentation: https://pandas.pydata.org/pandas-docs/stable/user_guide/indexing.html#returning-a-view-versus-a-copy\n",
      "  mult_authors_df['Corresponding author Addresses'] = mult_authors_df['Corresponding author Addresses'].str.split(';')\n"
     ]
    }
   ],
   "source": [
    "mult_authors_df['Corresponding author Addresses'] = mult_authors_df['Corresponding author Addresses'].str.split(';')"
   ]
  },
  {
   "cell_type": "code",
   "execution_count": 20,
   "id": "5ddd17f1",
   "metadata": {},
   "outputs": [
    {
     "name": "stderr",
     "output_type": "stream",
     "text": [
      "/tmp/ipykernel_451133/1495248539.py:1: SettingWithCopyWarning: \n",
      "A value is trying to be set on a copy of a slice from a DataFrame.\n",
      "Try using .loc[row_indexer,col_indexer] = value instead\n",
      "\n",
      "See the caveats in the documentation: https://pandas.pydata.org/pandas-docs/stable/user_guide/indexing.html#returning-a-view-versus-a-copy\n",
      "  mult_authors_df['Corresponding author geocoords'] = mult_authors_df['Corresponding author geocoords'].str.split(';')\n"
     ]
    }
   ],
   "source": [
    "mult_authors_df['Corresponding author geocoords'] = mult_authors_df['Corresponding author geocoords'].str.split(';')"
   ]
  },
  {
   "cell_type": "markdown",
   "id": "7a45f8f3",
   "metadata": {},
   "source": [
    "### Subcase 1: Authors all have same location\n",
    "In this case, there will be only one location listed under corresp author geocoords"
   ]
  },
  {
   "cell_type": "code",
   "execution_count": 110,
   "id": "0ae72431",
   "metadata": {},
   "outputs": [],
   "source": [
    "one_loc_df = mult_authors_df[mult_authors_df['Corresponding author geocoords'].map(len)==1]"
   ]
  },
  {
   "cell_type": "code",
   "execution_count": 111,
   "id": "ccd292dc",
   "metadata": {},
   "outputs": [
    {
     "name": "stderr",
     "output_type": "stream",
     "text": [
      "/tmp/ipykernel_451133/2763481392.py:1: SettingWithCopyWarning: \n",
      "A value is trying to be set on a copy of a slice from a DataFrame.\n",
      "Try using .loc[row_indexer,col_indexer] = value instead\n",
      "\n",
      "See the caveats in the documentation: https://pandas.pydata.org/pandas-docs/stable/user_guide/indexing.html#returning-a-view-versus-a-copy\n",
      "  one_loc_df['map_props'] = [1 for i in range(len(one_loc_df))]\n"
     ]
    }
   ],
   "source": [
    "one_loc_df['map_props'] = [1 for i in range(len(one_loc_df))]"
   ]
  },
  {
   "cell_type": "code",
   "execution_count": 112,
   "id": "5e53e380",
   "metadata": {},
   "outputs": [],
   "source": [
    "one_loc_out = one_loc_df.explode('Corresponding author Addresses')\n",
    "one_loc_out['map_props'] /= one_loc_out['map_props'].groupby(level=0).transform('count')"
   ]
  },
  {
   "cell_type": "code",
   "execution_count": 113,
   "id": "5393295c",
   "metadata": {},
   "outputs": [],
   "source": [
    "one_loc_out['Corresponding_author_last_name'] = one_loc_out['Corresponding author Addresses'].str.split(', ').str[0]"
   ]
  },
  {
   "cell_type": "code",
   "execution_count": 114,
   "id": "3af6cec5",
   "metadata": {},
   "outputs": [],
   "source": [
    "one_loc_out['Corresponding_author_last_name'] = one_loc_out['Corresponding_author_last_name'].str.strip()"
   ]
  },
  {
   "cell_type": "code",
   "execution_count": 115,
   "id": "b3f823a7",
   "metadata": {},
   "outputs": [],
   "source": [
    "# names that just have initials as first names will just have the initials as the first name\n",
    "one_loc_out[\"first and last names\"]=[re.findall(one_loc_out.iloc[i]['Corresponding_author_last_name']+\"+[^;]*\", one_loc_out.iloc[i]['Author Full Names']) for i in range(len(one_loc_out))]"
   ]
  },
  {
   "cell_type": "code",
   "execution_count": 116,
   "id": "8e6f5d8d",
   "metadata": {},
   "outputs": [],
   "source": [
    "one_loc_out = one_loc_out.reset_index()"
   ]
  },
  {
   "cell_type": "code",
   "execution_count": 117,
   "id": "f572ffe8",
   "metadata": {},
   "outputs": [],
   "source": [
    "no_authors = []\n",
    "\n",
    "for i in one_loc_out.index:\n",
    "    if len(one_loc_out.loc[i]['first and last names']) == 0:\n",
    "        no_authors.append(i)\n",
    "        \n",
    "no_authors_df = one_loc_out.loc[no_authors]"
   ]
  },
  {
   "cell_type": "code",
   "execution_count": 118,
   "id": "b3323d95",
   "metadata": {},
   "outputs": [],
   "source": [
    "# need to do the german last name thing\n",
    "new_last_names = []\n",
    "\n",
    "for i in list(no_authors_df.index):\n",
    "    old_last_name = no_authors_df.loc[i]['Corresponding_author_last_name']\n",
    "    author_full_name = no_authors_df.loc[i]['Author Full Names']\n",
    "    # if the old last name is one insertion away from something in the author full names, then consider it a match\n",
    "    new_last_name = regex.findall(\"(\"+old_last_name+\"){i<=1,d<=1}\", author_full_name, overlapped=True)\n",
    "    # if there are still no matches, ignore for now\n",
    "    if len(new_last_name) == 0:\n",
    "        pass    \n",
    "    else:\n",
    "        new_last_names.append([i,new_last_name[0]])"
   ]
  },
  {
   "cell_type": "code",
   "execution_count": 119,
   "id": "fcf115f6",
   "metadata": {},
   "outputs": [],
   "source": [
    "# replace last names in old dataframe with new last names (which contain an extra letter)\n",
    "for i in range(len(new_last_names)):\n",
    "    no_authors_df.at[new_last_names[i][0],'Corresponding_author_last_name'] = new_last_names[i][1]"
   ]
  },
  {
   "cell_type": "code",
   "execution_count": 120,
   "id": "91cece03",
   "metadata": {},
   "outputs": [],
   "source": [
    "no_authors_df[\"first and last names\"]=[re.findall(no_authors_df.loc[i]['Corresponding_author_last_name']+\"+[^;]*\", no_authors_df.loc[i]['Author Full Names']) for i in no_authors_df.index]"
   ]
  },
  {
   "cell_type": "code",
   "execution_count": 121,
   "id": "13fc4654",
   "metadata": {},
   "outputs": [],
   "source": [
    "for i in no_authors_df.index:\n",
    "    one_loc_out.at[i, 'first and last names'] = no_authors_df.at[i, 'first and last names']"
   ]
  },
  {
   "cell_type": "code",
   "execution_count": 122,
   "id": "2eb0a9b1",
   "metadata": {},
   "outputs": [
    {
     "data": {
      "text/plain": [
       "11                     [Liu, Wen, Liu, Tianzhong]\n",
       "54                 [Lin, Li, Wen-Dong, Liu, Ying]\n",
       "78                            [Yu, Ying, Yu-Huan]\n",
       "80                            [Yu, Ying, Yu-Huan]\n",
       "100                      [Yunxiao, Yuan, Yu, Fei]\n",
       "                           ...                   \n",
       "27014                 [Chen Zhi-Wei, Chen Ru-Kai]\n",
       "27024                [Zhou, Yan, Zhou, Changyong]\n",
       "27026                [Zhou, Yan, Zhou, Changyong]\n",
       "27037    [Zambolim, Eunize M., Zambolim, Laercio]\n",
       "27039                       [Lin, Yi-Hua, Li, Yu]\n",
       "Name: first and last names, Length: 5897, dtype: object"
      ]
     },
     "execution_count": 122,
     "metadata": {},
     "output_type": "execute_result"
    }
   ],
   "source": [
    "one_loc_out[one_loc_out[\"first and last names\"].map(len) != 1][\"first and last names\"]"
   ]
  },
  {
   "cell_type": "code",
   "execution_count": 123,
   "id": "ce9a7c6c",
   "metadata": {},
   "outputs": [],
   "source": [
    "# this is to find authors that have the same last name as other authors\n",
    "mult_author_df = one_loc_out[one_loc_out[\"first and last names\"].map(len) != 1]"
   ]
  },
  {
   "cell_type": "code",
   "execution_count": 124,
   "id": "aa3af38c",
   "metadata": {},
   "outputs": [
    {
     "name": "stderr",
     "output_type": "stream",
     "text": [
      "/tmp/ipykernel_451133/3790255992.py:1: SettingWithCopyWarning: \n",
      "A value is trying to be set on a copy of a slice from a DataFrame.\n",
      "Try using .loc[row_indexer,col_indexer] = value instead\n",
      "\n",
      "See the caveats in the documentation: https://pandas.pydata.org/pandas-docs/stable/user_guide/indexing.html#returning-a-view-versus-a-copy\n",
      "  mult_author_df['Corresponding_author_last_name'] = mult_author_df['Corresponding author Addresses'].str.findall(r'^[^,]*,..').str[0]\n"
     ]
    }
   ],
   "source": [
    "mult_author_df['Corresponding_author_last_name'] = mult_author_df['Corresponding author Addresses'].str.findall(r'^[^,]*,..').str[0]"
   ]
  },
  {
   "cell_type": "code",
   "execution_count": 125,
   "id": "a5984b2f",
   "metadata": {},
   "outputs": [
    {
     "name": "stderr",
     "output_type": "stream",
     "text": [
      "/tmp/ipykernel_451133/4227390828.py:1: SettingWithCopyWarning: \n",
      "A value is trying to be set on a copy of a slice from a DataFrame.\n",
      "Try using .loc[row_indexer,col_indexer] = value instead\n",
      "\n",
      "See the caveats in the documentation: https://pandas.pydata.org/pandas-docs/stable/user_guide/indexing.html#returning-a-view-versus-a-copy\n",
      "  mult_author_df['Corresponding_author_last_name'] = mult_author_df['Corresponding_author_last_name'].str.strip()\n"
     ]
    }
   ],
   "source": [
    "mult_author_df['Corresponding_author_last_name'] = mult_author_df['Corresponding_author_last_name'].str.strip()"
   ]
  },
  {
   "cell_type": "code",
   "execution_count": 126,
   "id": "d6b961ad",
   "metadata": {},
   "outputs": [
    {
     "name": "stderr",
     "output_type": "stream",
     "text": [
      "/tmp/ipykernel_451133/1175752697.py:10: SettingWithCopyWarning: \n",
      "A value is trying to be set on a copy of a slice from a DataFrame.\n",
      "Try using .loc[row_indexer,col_indexer] = value instead\n",
      "\n",
      "See the caveats in the documentation: https://pandas.pydata.org/pandas-docs/stable/user_guide/indexing.html#returning-a-view-versus-a-copy\n",
      "  mult_author_df['first and last names'] = author_matches\n"
     ]
    }
   ],
   "source": [
    "# use previous cell to find first and last names of corresponding authors\n",
    "author_matches = []\n",
    "\n",
    "for i in mult_author_df.index:\n",
    "    mylist = mult_author_df.loc[i]['first and last names']\n",
    "    r = re.compile(str(mult_author_df.loc[i]['Corresponding_author_last_name'])+\".*\")\n",
    "    newlist = list(filter(r.match, mylist))\n",
    "    author_matches.append(newlist)\n",
    "    \n",
    "mult_author_df['first and last names'] = author_matches"
   ]
  },
  {
   "cell_type": "code",
   "execution_count": 129,
   "id": "71c3253c",
   "metadata": {},
   "outputs": [],
   "source": [
    "for i in mult_author_df.index:\n",
    "    one_loc_out.at[i,'first and last names'] = mult_author_df.at[i,'first and last names']"
   ]
  },
  {
   "cell_type": "code",
   "execution_count": 133,
   "id": "85198e45",
   "metadata": {},
   "outputs": [],
   "source": [
    "one_loc_out = one_loc_out[one_loc_out[\"first and last names\"].map(len)==1]"
   ]
  },
  {
   "cell_type": "code",
   "execution_count": 134,
   "id": "332c577a",
   "metadata": {},
   "outputs": [],
   "source": [
    "one_loc_out[\"first and last names\"] = [i[0].split(', ') for i in one_loc_out[\"first and last names\"]]"
   ]
  },
  {
   "cell_type": "code",
   "execution_count": 135,
   "id": "21b0d770",
   "metadata": {},
   "outputs": [],
   "source": [
    "one_loc_out[\"First name\"] = [i[-1] for i in one_loc_out[\"first and last names\"]]"
   ]
  },
  {
   "cell_type": "code",
   "execution_count": 137,
   "id": "9c600cd5",
   "metadata": {},
   "outputs": [],
   "source": [
    "one_loc_names[\"Last name\"] = [i[0] for i in one_loc_names[\"first and last names\"]]"
   ]
  },
  {
   "cell_type": "code",
   "execution_count": 249,
   "id": "bd7bb415",
   "metadata": {},
   "outputs": [],
   "source": [
    "one_loc_names = one_loc_out.merge(names_dict_final, how='left', on='First name')\n",
    "one_loc_names = one_loc_names.loc[one_loc_names.astype(str).drop_duplicates().index]"
   ]
  },
  {
   "cell_type": "code",
   "execution_count": 250,
   "id": "c6320d1f",
   "metadata": {
    "scrolled": true
   },
   "outputs": [],
   "source": [
    "one_loc_names = one_loc_names.sort_values(by=['index']).reset_index(drop=True)"
   ]
  },
  {
   "cell_type": "markdown",
   "id": "96a178a8",
   "metadata": {},
   "source": [
    "### Subcase 2: All authors have different locations"
   ]
  },
  {
   "cell_type": "code",
   "execution_count": 264,
   "id": "5aa68463",
   "metadata": {},
   "outputs": [],
   "source": [
    "diff_loc_df = mult_authors_df[mult_authors_df['Corresponding author geocoords'].map(len)==mult_authors_df['Corresponding author Addresses'].map(len)]"
   ]
  },
  {
   "cell_type": "code",
   "execution_count": 265,
   "id": "37c44a01",
   "metadata": {},
   "outputs": [
    {
     "name": "stderr",
     "output_type": "stream",
     "text": [
      "/tmp/ipykernel_451133/720741673.py:1: SettingWithCopyWarning: \n",
      "A value is trying to be set on a copy of a slice from a DataFrame.\n",
      "Try using .loc[row_indexer,col_indexer] = value instead\n",
      "\n",
      "See the caveats in the documentation: https://pandas.pydata.org/pandas-docs/stable/user_guide/indexing.html#returning-a-view-versus-a-copy\n",
      "  diff_loc_df['map_props'] = [1 for i in range(len(diff_loc_df))]\n"
     ]
    }
   ],
   "source": [
    "diff_loc_df['map_props'] = [1 for i in range(len(diff_loc_df))]"
   ]
  },
  {
   "cell_type": "code",
   "execution_count": 266,
   "id": "a6995e74",
   "metadata": {},
   "outputs": [],
   "source": [
    "diff_loc_out = diff_loc_df.explode(['Corresponding author Addresses','Corresponding author geocoords'])\n",
    "diff_loc_out['map_props'] /= diff_loc_out['map_props'].groupby(level=0).transform('count')"
   ]
  },
  {
   "cell_type": "code",
   "execution_count": 275,
   "id": "d47756aa",
   "metadata": {},
   "outputs": [],
   "source": [
    "diff_loc_out['Corresponding_author_last_name'] = diff_loc_out['Corresponding author Addresses'].str.split(', ').str[0]"
   ]
  },
  {
   "cell_type": "code",
   "execution_count": 276,
   "id": "a58990c7",
   "metadata": {},
   "outputs": [],
   "source": [
    "diff_loc_out['Corresponding_author_last_name'] = diff_loc_out['Corresponding_author_last_name'].str.strip()"
   ]
  },
  {
   "cell_type": "code",
   "execution_count": 277,
   "id": "2ae4daf0",
   "metadata": {},
   "outputs": [],
   "source": [
    "# names that just have initials as first names will just have the initials as the first name\n",
    "diff_loc_out[\"first and last names\"]=[re.findall(diff_loc_out.iloc[i]['Corresponding_author_last_name']+\"+[^;]*\", diff_loc_out.iloc[i]['Author Full Names']) for i in range(len(diff_loc_out))]"
   ]
  },
  {
   "cell_type": "code",
   "execution_count": 280,
   "id": "d3f53aa1",
   "metadata": {},
   "outputs": [],
   "source": [
    "diff_loc_out = diff_loc_out.reset_index()"
   ]
  },
  {
   "cell_type": "code",
   "execution_count": 281,
   "id": "15c1f004",
   "metadata": {},
   "outputs": [],
   "source": [
    "# find entries that have no corresponding author name extracted\n",
    "no_authors_diff = []\n",
    "\n",
    "for i in diff_loc_out.index:\n",
    "    if len(diff_loc_out.loc[i]['first and last names']) == 0:\n",
    "        no_authors_diff.append(i)\n",
    "        \n",
    "no_authors_diff_df = diff_loc_out.loc[no_authors_diff]"
   ]
  },
  {
   "cell_type": "code",
   "execution_count": 282,
   "id": "27a775c9",
   "metadata": {},
   "outputs": [],
   "source": [
    "# need to do the german last name thing\n",
    "new_last_names_diff = []\n",
    "\n",
    "for i in list(no_authors_diff_df.index):\n",
    "    old_last_name = no_authors_diff_df.loc[i]['Corresponding_author_last_name']\n",
    "    author_full_name = no_authors_diff_df.loc[i]['Author Full Names']\n",
    "    # if the old last name is one insertion away from something in the author full names, then consider it a match\n",
    "    new_last_name = regex.findall(\"(\"+old_last_name+\"){i<=1,d<=1}\", author_full_name, overlapped=True)\n",
    "    # if there are still no matches, ignore for now\n",
    "    if len(new_last_name) == 0:\n",
    "        pass    \n",
    "    else:\n",
    "        new_last_names_diff.append([i,new_last_name[0]])"
   ]
  },
  {
   "cell_type": "code",
   "execution_count": 283,
   "id": "d9eeb5ba",
   "metadata": {},
   "outputs": [],
   "source": [
    "# replace last names in old dataframe with new last names (which contain an extra letter)\n",
    "for i in range(len(new_last_names_diff)):\n",
    "    no_authors_diff_df.at[new_last_names_diff[i][0],'Corresponding_author_last_name'] = new_last_names_diff[i][1]"
   ]
  },
  {
   "cell_type": "code",
   "execution_count": 284,
   "id": "b69faec3",
   "metadata": {},
   "outputs": [],
   "source": [
    "no_authors_diff_df[\"first and last names\"]=[re.findall(no_authors_diff_df.loc[i]['Corresponding_author_last_name']+\"+[^;]*\", no_authors_diff_df.loc[i]['Author Full Names']) for i in no_authors_diff_df.index]"
   ]
  },
  {
   "cell_type": "code",
   "execution_count": 285,
   "id": "069a2a81",
   "metadata": {},
   "outputs": [],
   "source": [
    "for i in no_authors_diff_df.index:\n",
    "    diff_loc_out.at[i, 'first and last names'] = no_authors_diff_df.at[i, 'first and last names']"
   ]
  },
  {
   "cell_type": "code",
   "execution_count": null,
   "id": "3fc35bf0",
   "metadata": {},
   "outputs": [],
   "source": [
    "# this is the problem"
   ]
  },
  {
   "cell_type": "code",
   "execution_count": null,
   "id": "65072e39",
   "metadata": {},
   "outputs": [],
   "source": [
    "# drop people with no first names at this point\n",
    "# diff_loc_out = diff_loc_out[diff_loc_out[\"first and last names\"].map(len)==1]"
   ]
  },
  {
   "cell_type": "code",
   "execution_count": 292,
   "id": "6517d37a",
   "metadata": {
    "scrolled": true
   },
   "outputs": [],
   "source": [
    "# this is to find authors that have the same last name as other authors\n",
    "mult_author_df = diff_loc_out[diff_loc_out[\"first and last names\"].map(len) != 1]"
   ]
  },
  {
   "cell_type": "code",
   "execution_count": 293,
   "id": "9a848c5e",
   "metadata": {},
   "outputs": [
    {
     "name": "stderr",
     "output_type": "stream",
     "text": [
      "/tmp/ipykernel_451133/3790255992.py:1: SettingWithCopyWarning: \n",
      "A value is trying to be set on a copy of a slice from a DataFrame.\n",
      "Try using .loc[row_indexer,col_indexer] = value instead\n",
      "\n",
      "See the caveats in the documentation: https://pandas.pydata.org/pandas-docs/stable/user_guide/indexing.html#returning-a-view-versus-a-copy\n",
      "  mult_author_df['Corresponding_author_last_name'] = mult_author_df['Corresponding author Addresses'].str.findall(r'^[^,]*,..').str[0]\n"
     ]
    }
   ],
   "source": [
    "mult_author_df['Corresponding_author_last_name'] = mult_author_df['Corresponding author Addresses'].str.findall(r'^[^,]*,..').str[0]"
   ]
  },
  {
   "cell_type": "code",
   "execution_count": 294,
   "id": "16554d56",
   "metadata": {},
   "outputs": [
    {
     "name": "stderr",
     "output_type": "stream",
     "text": [
      "/tmp/ipykernel_451133/4227390828.py:1: SettingWithCopyWarning: \n",
      "A value is trying to be set on a copy of a slice from a DataFrame.\n",
      "Try using .loc[row_indexer,col_indexer] = value instead\n",
      "\n",
      "See the caveats in the documentation: https://pandas.pydata.org/pandas-docs/stable/user_guide/indexing.html#returning-a-view-versus-a-copy\n",
      "  mult_author_df['Corresponding_author_last_name'] = mult_author_df['Corresponding_author_last_name'].str.strip()\n"
     ]
    }
   ],
   "source": [
    "mult_author_df['Corresponding_author_last_name'] = mult_author_df['Corresponding_author_last_name'].str.strip()"
   ]
  },
  {
   "cell_type": "code",
   "execution_count": 295,
   "id": "eb4c2304",
   "metadata": {},
   "outputs": [
    {
     "name": "stderr",
     "output_type": "stream",
     "text": [
      "/tmp/ipykernel_451133/1175752697.py:10: SettingWithCopyWarning: \n",
      "A value is trying to be set on a copy of a slice from a DataFrame.\n",
      "Try using .loc[row_indexer,col_indexer] = value instead\n",
      "\n",
      "See the caveats in the documentation: https://pandas.pydata.org/pandas-docs/stable/user_guide/indexing.html#returning-a-view-versus-a-copy\n",
      "  mult_author_df['first and last names'] = author_matches\n"
     ]
    }
   ],
   "source": [
    "# use previous cell to find first and last names of corresponding authors\n",
    "author_matches = []\n",
    "\n",
    "for i in mult_author_df.index:\n",
    "    mylist = mult_author_df.loc[i]['first and last names']\n",
    "    r = re.compile(str(mult_author_df.loc[i]['Corresponding_author_last_name'])+\".*\")\n",
    "    newlist = list(filter(r.match, mylist))\n",
    "    author_matches.append(newlist)\n",
    "    \n",
    "mult_author_df['first and last names'] = author_matches"
   ]
  },
  {
   "cell_type": "code",
   "execution_count": 296,
   "id": "59bf0803",
   "metadata": {},
   "outputs": [],
   "source": [
    "for i in mult_author_df.index:\n",
    "    diff_loc_out.at[i,'first and last names'] = mult_author_df.at[i,'first and last names']"
   ]
  },
  {
   "cell_type": "code",
   "execution_count": 298,
   "id": "13745eae",
   "metadata": {
    "scrolled": true
   },
   "outputs": [],
   "source": [
    "# drop names that can't be matched at this point\n",
    "diff_loc_out = diff_loc_out[diff_loc_out[\"first and last names\"].map(len) == 1]"
   ]
  },
  {
   "cell_type": "code",
   "execution_count": 301,
   "id": "7f0bcb67",
   "metadata": {},
   "outputs": [
    {
     "name": "stderr",
     "output_type": "stream",
     "text": [
      "/tmp/ipykernel_451133/1656389199.py:1: SettingWithCopyWarning: \n",
      "A value is trying to be set on a copy of a slice from a DataFrame.\n",
      "Try using .loc[row_indexer,col_indexer] = value instead\n",
      "\n",
      "See the caveats in the documentation: https://pandas.pydata.org/pandas-docs/stable/user_guide/indexing.html#returning-a-view-versus-a-copy\n",
      "  diff_loc_out[\"first and last names\"] = [i[0].split(', ') for i in diff_loc_out[\"first and last names\"]]\n"
     ]
    }
   ],
   "source": [
    "diff_loc_out[\"first and last names\"] = [i[0].split(', ') for i in diff_loc_out[\"first and last names\"]]"
   ]
  },
  {
   "cell_type": "code",
   "execution_count": 302,
   "id": "b448249b",
   "metadata": {},
   "outputs": [
    {
     "name": "stderr",
     "output_type": "stream",
     "text": [
      "/tmp/ipykernel_451133/642284433.py:1: SettingWithCopyWarning: \n",
      "A value is trying to be set on a copy of a slice from a DataFrame.\n",
      "Try using .loc[row_indexer,col_indexer] = value instead\n",
      "\n",
      "See the caveats in the documentation: https://pandas.pydata.org/pandas-docs/stable/user_guide/indexing.html#returning-a-view-versus-a-copy\n",
      "  diff_loc_out[\"First name\"] = [i[-1] for i in diff_loc_out[\"first and last names\"]]\n"
     ]
    }
   ],
   "source": [
    "diff_loc_out[\"First name\"] = [i[-1] for i in diff_loc_out[\"first and last names\"]]"
   ]
  },
  {
   "cell_type": "code",
   "execution_count": 303,
   "id": "adbf4e3e",
   "metadata": {},
   "outputs": [
    {
     "name": "stderr",
     "output_type": "stream",
     "text": [
      "/tmp/ipykernel_451133/3864045261.py:1: SettingWithCopyWarning: \n",
      "A value is trying to be set on a copy of a slice from a DataFrame.\n",
      "Try using .loc[row_indexer,col_indexer] = value instead\n",
      "\n",
      "See the caveats in the documentation: https://pandas.pydata.org/pandas-docs/stable/user_guide/indexing.html#returning-a-view-versus-a-copy\n",
      "  diff_loc_out[\"Last name\"] = [i[0] for i in diff_loc_out[\"first and last names\"]]\n"
     ]
    }
   ],
   "source": [
    "diff_loc_out[\"Last name\"] = [i[0] for i in diff_loc_out[\"first and last names\"]]"
   ]
  },
  {
   "cell_type": "code",
   "execution_count": 337,
   "id": "47b633ad",
   "metadata": {},
   "outputs": [],
   "source": [
    "diff_loc_names = diff_loc_out.merge(names_dict_final, on='First name', how='left')\n",
    "# diff_loc_names = diff_loc_names.loc[diff_loc_names.astype(str).drop_duplicates().index]"
   ]
  },
  {
   "cell_type": "code",
   "execution_count": 339,
   "id": "ead6f05f",
   "metadata": {
    "scrolled": true
   },
   "outputs": [],
   "source": [
    "diff_loc_names = diff_loc_names.set_index('index')"
   ]
  },
  {
   "cell_type": "markdown",
   "id": "873ad6fe",
   "metadata": {},
   "source": [
    "# Merge back with original data"
   ]
  },
  {
   "cell_type": "code",
   "execution_count": 341,
   "id": "9eff85cc",
   "metadata": {
    "scrolled": true
   },
   "outputs": [],
   "source": [
    "data = pd.read_csv('../ete3/Plt_sci_publications_geo_species_8.26.csv', low_memory=False)"
   ]
  },
  {
   "cell_type": "code",
   "execution_count": 342,
   "id": "35d01af9",
   "metadata": {
    "scrolled": true
   },
   "outputs": [],
   "source": [
    "one_loc_names_merged = (one_loc_names.groupby(['index'])\n",
    "    .agg({'inferred_gender_y': lambda x: x.tolist(), 'first and last names': lambda x: x.tolist()}))"
   ]
  },
  {
   "cell_type": "code",
   "execution_count": 343,
   "id": "3b494648",
   "metadata": {},
   "outputs": [],
   "source": [
    "diff_loc_names_merged = (diff_loc_names.groupby(['index'])\n",
    "    .agg({'inferred_gender_y': lambda x: x.tolist(), 'first and last names': lambda x: x.tolist()}))"
   ]
  },
  {
   "cell_type": "code",
   "execution_count": 344,
   "id": "21a3356c",
   "metadata": {},
   "outputs": [],
   "source": [
    "for i in one_loc_names_merged.index:\n",
    "    data.at[i,'inferred_gender'] = one_loc_names_merged.at[i,'inferred_gender_y']\n",
    "    data.at[i,'first and last names'] = one_loc_names_merged.at[i,'first and last names']"
   ]
  },
  {
   "cell_type": "code",
   "execution_count": 345,
   "id": "94ca872c",
   "metadata": {
    "scrolled": true
   },
   "outputs": [],
   "source": [
    "for i in diff_loc_names_merged.index:\n",
    "    data.at[i,'inferred_gender'] = diff_loc_names_merged.at[i,'inferred_gender_y']\n",
    "    data.at[i,'first and last names'] = diff_loc_names_merged.at[i,'first and last names']"
   ]
  },
  {
   "cell_type": "code",
   "execution_count": 255,
   "id": "5286f8af",
   "metadata": {},
   "outputs": [],
   "source": [
    "# data.to_csv('data_full_gender.csv', index = False)"
   ]
  },
  {
   "cell_type": "code",
   "execution_count": 256,
   "id": "a4f6d24e",
   "metadata": {},
   "outputs": [],
   "source": [
    "# data.to_pickle('data_full_gender.pkl')"
   ]
  },
  {
   "cell_type": "code",
   "execution_count": 178,
   "id": "fcc78655",
   "metadata": {
    "scrolled": true
   },
   "outputs": [
    {
     "data": {
      "text/html": [
       "<div>\n",
       "<style scoped>\n",
       "    .dataframe tbody tr th:only-of-type {\n",
       "        vertical-align: middle;\n",
       "    }\n",
       "\n",
       "    .dataframe tbody tr th {\n",
       "        vertical-align: top;\n",
       "    }\n",
       "\n",
       "    .dataframe thead th {\n",
       "        text-align: right;\n",
       "    }\n",
       "</style>\n",
       "<table border=\"1\" class=\"dataframe\">\n",
       "  <thead>\n",
       "    <tr style=\"text-align: right;\">\n",
       "      <th></th>\n",
       "      <th>index</th>\n",
       "      <th>Author Full Names</th>\n",
       "      <th>Article Title</th>\n",
       "      <th>Journal</th>\n",
       "      <th>impact factor (2020)</th>\n",
       "      <th>Author Keywords</th>\n",
       "      <th>Keywords Plus</th>\n",
       "      <th>Abstract</th>\n",
       "      <th>Addresses--all authors</th>\n",
       "      <th>Nations--all authors</th>\n",
       "      <th>...</th>\n",
       "      <th>Locations--all authors</th>\n",
       "      <th>Geocoords--all authors</th>\n",
       "      <th>Corresponding author locations</th>\n",
       "      <th>Corresponding author geocoords</th>\n",
       "      <th>Number of authoring countries</th>\n",
       "      <th>Number of corresponding countries</th>\n",
       "      <th>unique_NCBI</th>\n",
       "      <th>map_props</th>\n",
       "      <th>First name</th>\n",
       "      <th>Last name</th>\n",
       "    </tr>\n",
       "  </thead>\n",
       "  <tbody>\n",
       "    <tr>\n",
       "      <th>0</th>\n",
       "      <td>15</td>\n",
       "      <td>Amaral, Raquel; Sevcikova, Tereza; Elias, Mare...</td>\n",
       "      <td>CharaciopsisBorzi belongs to the Eustigmatophy...</td>\n",
       "      <td>EUROPEAN JOURNAL OF PHYCOLOGY</td>\n",
       "      <td>0.874</td>\n",
       "      <td>Characiopsis; Eustigmataceae group; Eustigmato...</td>\n",
       "      <td>ALGAL CLASS; PHYLOGENY; ULTRASTRUCTURE; NOMENC...</td>\n",
       "      <td>Characiopsis, established by Borzi in 1895, is...</td>\n",
       "      <td>[Amaral, Raquel; Santos, Lilia M. A.] Univ Coi...</td>\n",
       "      <td>Portugal; Czechia</td>\n",
       "      <td>...</td>\n",
       "      <td>Coimbra, Portugal; Ostrava, Czechia</td>\n",
       "      <td>(40.20331450000001, -8.4102573); (49.8209226, ...</td>\n",
       "      <td>Coimbra, Portugal; Ostrava, Czechia</td>\n",
       "      <td>(40.20331450000001, -8.4102573)</td>\n",
       "      <td>2</td>\n",
       "      <td>2</td>\n",
       "      <td>[425071, 2713033, 1431827, 5747, 44429, 271303...</td>\n",
       "      <td>0.5</td>\n",
       "      <td>Raquel</td>\n",
       "      <td>Amaral</td>\n",
       "    </tr>\n",
       "    <tr>\n",
       "      <th>1</th>\n",
       "      <td>15</td>\n",
       "      <td>Amaral, Raquel; Sevcikova, Tereza; Elias, Mare...</td>\n",
       "      <td>CharaciopsisBorzi belongs to the Eustigmatophy...</td>\n",
       "      <td>EUROPEAN JOURNAL OF PHYCOLOGY</td>\n",
       "      <td>0.874</td>\n",
       "      <td>Characiopsis; Eustigmataceae group; Eustigmato...</td>\n",
       "      <td>ALGAL CLASS; PHYLOGENY; ULTRASTRUCTURE; NOMENC...</td>\n",
       "      <td>Characiopsis, established by Borzi in 1895, is...</td>\n",
       "      <td>[Amaral, Raquel; Santos, Lilia M. A.] Univ Coi...</td>\n",
       "      <td>Portugal; Czechia</td>\n",
       "      <td>...</td>\n",
       "      <td>Coimbra, Portugal; Ostrava, Czechia</td>\n",
       "      <td>(40.20331450000001, -8.4102573); (49.8209226, ...</td>\n",
       "      <td>Coimbra, Portugal; Ostrava, Czechia</td>\n",
       "      <td>(49.8209226, 18.262524300000006)</td>\n",
       "      <td>2</td>\n",
       "      <td>2</td>\n",
       "      <td>[425071, 2713033, 1431827, 5747, 44429, 271303...</td>\n",
       "      <td>0.5</td>\n",
       "      <td>Marek</td>\n",
       "      <td>Elias</td>\n",
       "    </tr>\n",
       "    <tr>\n",
       "      <th>2</th>\n",
       "      <td>50</td>\n",
       "      <td>Bernard, Miriam S.; Strittmatter, Martina; Mur...</td>\n",
       "      <td>Diversity, biogeography and host specificity o...</td>\n",
       "      <td>EUROPEAN JOURNAL OF PHYCOLOGY</td>\n",
       "      <td>0.874</td>\n",
       "      <td>5'COI; barcoding; biogeography; endophytes; ho...</td>\n",
       "      <td>ALGA CAULERPA-TAXIFOLIA; NUCLEAR RIBOSOMAL DNA...</td>\n",
       "      <td>Endophytic filamentous brown algae are known t...</td>\n",
       "      <td>[Bernard, Miriam S.; Heesch, Svenja; Leblanc, ...</td>\n",
       "      <td>France; Scotland; South Korea</td>\n",
       "      <td>...</td>\n",
       "      <td>Roscoff, France; Oban, Argyll, Scotland; Banch...</td>\n",
       "      <td>(37.41379999999999, 127.5183); (48.703091, -4....</td>\n",
       "      <td>Roscoff, France; Santec, France</td>\n",
       "      <td>(48.703091, -4.0292009)</td>\n",
       "      <td>3</td>\n",
       "      <td>1</td>\n",
       "      <td>[90893, 64910, 64922, 64929, 309358, 172714, 6...</td>\n",
       "      <td>0.5</td>\n",
       "      <td>Miriam S.</td>\n",
       "      <td>Bernard</td>\n",
       "    </tr>\n",
       "    <tr>\n",
       "      <th>3</th>\n",
       "      <td>50</td>\n",
       "      <td>Bernard, Miriam S.; Strittmatter, Martina; Mur...</td>\n",
       "      <td>Diversity, biogeography and host specificity o...</td>\n",
       "      <td>EUROPEAN JOURNAL OF PHYCOLOGY</td>\n",
       "      <td>0.874</td>\n",
       "      <td>5'COI; barcoding; biogeography; endophytes; ho...</td>\n",
       "      <td>ALGA CAULERPA-TAXIFOLIA; NUCLEAR RIBOSOMAL DNA...</td>\n",
       "      <td>Endophytic filamentous brown algae are known t...</td>\n",
       "      <td>[Bernard, Miriam S.; Heesch, Svenja; Leblanc, ...</td>\n",
       "      <td>France; Scotland; South Korea</td>\n",
       "      <td>...</td>\n",
       "      <td>Roscoff, France; Oban, Argyll, Scotland; Banch...</td>\n",
       "      <td>(37.41379999999999, 127.5183); (48.703091, -4....</td>\n",
       "      <td>Roscoff, France; Santec, France</td>\n",
       "      <td>(48.726199, -3.985325)</td>\n",
       "      <td>3</td>\n",
       "      <td>1</td>\n",
       "      <td>[90893, 64910, 64922, 64929, 309358, 172714, 6...</td>\n",
       "      <td>0.5</td>\n",
       "      <td>Akira F.</td>\n",
       "      <td>Peters</td>\n",
       "    </tr>\n",
       "    <tr>\n",
       "      <th>4</th>\n",
       "      <td>132</td>\n",
       "      <td>D'Archino, Roberta; Lin, Showe-Mei; Gabrielson...</td>\n",
       "      <td>Why one species in New Zealand, Pugetia delica...</td>\n",
       "      <td>EUROPEAN JOURNAL OF PHYCOLOGY</td>\n",
       "      <td>0.874</td>\n",
       "      <td>DNA sequencing; endemic genera; large-subunit ...</td>\n",
       "      <td>SUBUNIT RDNA; GIGARTINACEAE RHODOPHYTA; MAXIMU...</td>\n",
       "      <td>Blade-forming red algae occur worldwide and, p...</td>\n",
       "      <td>[D'Archino, Roberta] Natl Inst Water &amp; Atmosph...</td>\n",
       "      <td>New Zealand; Taiwan; United States</td>\n",
       "      <td>...</td>\n",
       "      <td>Wellington, New Zealand; Keelung, Taiwan; Chap...</td>\n",
       "      <td>(-41.2923814, 174.77874630000005); (25.1275997...</td>\n",
       "      <td>Wellington, New Zealand; Keelung, Taiwan</td>\n",
       "      <td>(-41.2923814, 174.77874630000005)</td>\n",
       "      <td>3</td>\n",
       "      <td>2</td>\n",
       "      <td>[217477, 1789642, 1789644, 1789643, 31430]</td>\n",
       "      <td>0.5</td>\n",
       "      <td>Roberta</td>\n",
       "      <td>D'Archino</td>\n",
       "    </tr>\n",
       "    <tr>\n",
       "      <th>...</th>\n",
       "      <td>...</td>\n",
       "      <td>...</td>\n",
       "      <td>...</td>\n",
       "      <td>...</td>\n",
       "      <td>...</td>\n",
       "      <td>...</td>\n",
       "      <td>...</td>\n",
       "      <td>...</td>\n",
       "      <td>...</td>\n",
       "      <td>...</td>\n",
       "      <td>...</td>\n",
       "      <td>...</td>\n",
       "      <td>...</td>\n",
       "      <td>...</td>\n",
       "      <td>...</td>\n",
       "      <td>...</td>\n",
       "      <td>...</td>\n",
       "      <td>...</td>\n",
       "      <td>...</td>\n",
       "      <td>...</td>\n",
       "      <td>...</td>\n",
       "    </tr>\n",
       "    <tr>\n",
       "      <th>10076</th>\n",
       "      <td>290266</td>\n",
       "      <td>Noorizadeh, Sina; Khakvar, Reza; Golmohammadi,...</td>\n",
       "      <td>Multilocus genotyping of 'Candidatus Phytoplas...</td>\n",
       "      <td>TROPICAL PLANT PATHOLOGY</td>\n",
       "      <td>1.512</td>\n",
       "      <td>Genetic diversity; Group II intron; Phylogeny</td>\n",
       "      <td>ASTER YELLOWS; PROTEIN; TAXON; LIME; CLASSIFIC...</td>\n",
       "      <td>Witches' broom disease of lime (WBDL), associa...</td>\n",
       "      <td>[Noorizadeh, Sina; Khakvar, Reza] Tabriz Univ,...</td>\n",
       "      <td>Iran</td>\n",
       "      <td>...</td>\n",
       "      <td>Tabriz, Iran; Ramsar, Iran; Zarghan, Iran</td>\n",
       "      <td>(29.7641623, 52.7134927); (36.9268274, 50.6430...</td>\n",
       "      <td>Tabriz, Iran; Ramsar, Iran</td>\n",
       "      <td>(38.0791831, 46.28867320000001)</td>\n",
       "      <td>1</td>\n",
       "      <td>1</td>\n",
       "      <td>[33926, 384545, 180978]</td>\n",
       "      <td>0.5</td>\n",
       "      <td>Morteza</td>\n",
       "      <td>Golmohammadi</td>\n",
       "    </tr>\n",
       "    <tr>\n",
       "      <th>10077</th>\n",
       "      <td>290469</td>\n",
       "      <td>Teixeira, Luiz; Heck, Daniel; Nomura, Edson; V...</td>\n",
       "      <td>Soil attributes, plant nutrition, and Fusarium...</td>\n",
       "      <td>TROPICAL PLANT PATHOLOGY</td>\n",
       "      <td>1.512</td>\n",
       "      <td>Fusarium oxysporum f; sp; cubense; Musa spp; P...</td>\n",
       "      <td>NaN</td>\n",
       "      <td>Fusarium wilt of banana (FWB), caused by Fusar...</td>\n",
       "      <td>[Teixeira, Luiz] Inst Agron Estado Sao Paulo, ...</td>\n",
       "      <td>Brazil; Colombia</td>\n",
       "      <td>...</td>\n",
       "      <td>Campinas, SP, Brazil; Vicosa, MG, Brazil; Pari...</td>\n",
       "      <td>(-20.7561451, -42.8800278); (-22.7042274, -46....</td>\n",
       "      <td>Campinas, SP, Brazil; Cali, Colombia</td>\n",
       "      <td>(-22.9099384, -47.06263320000001)</td>\n",
       "      <td>2</td>\n",
       "      <td>2</td>\n",
       "      <td>[61366, 4641]</td>\n",
       "      <td>0.5</td>\n",
       "      <td>Luiz</td>\n",
       "      <td>Teixeira</td>\n",
       "    </tr>\n",
       "    <tr>\n",
       "      <th>10078</th>\n",
       "      <td>290469</td>\n",
       "      <td>Teixeira, Luiz; Heck, Daniel; Nomura, Edson; V...</td>\n",
       "      <td>Soil attributes, plant nutrition, and Fusarium...</td>\n",
       "      <td>TROPICAL PLANT PATHOLOGY</td>\n",
       "      <td>1.512</td>\n",
       "      <td>Fusarium oxysporum f; sp; cubense; Musa spp; P...</td>\n",
       "      <td>NaN</td>\n",
       "      <td>Fusarium wilt of banana (FWB), caused by Fusar...</td>\n",
       "      <td>[Teixeira, Luiz] Inst Agron Estado Sao Paulo, ...</td>\n",
       "      <td>Brazil; Colombia</td>\n",
       "      <td>...</td>\n",
       "      <td>Campinas, SP, Brazil; Vicosa, MG, Brazil; Pari...</td>\n",
       "      <td>(-20.7561451, -42.8800278); (-22.7042274, -46....</td>\n",
       "      <td>Campinas, SP, Brazil; Cali, Colombia</td>\n",
       "      <td>(3.4516467000000004, -76.53198540000002)</td>\n",
       "      <td>2</td>\n",
       "      <td>2</td>\n",
       "      <td>[61366, 4641]</td>\n",
       "      <td>0.5</td>\n",
       "      <td>Miguel</td>\n",
       "      <td>Dita</td>\n",
       "    </tr>\n",
       "    <tr>\n",
       "      <th>10079</th>\n",
       "      <td>291858</td>\n",
       "      <td>Chen, Guoqi; Zhang, Bin; Wu, Qiong; Jin, Linho...</td>\n",
       "      <td>Group characteristics of tea growers relative ...</td>\n",
       "      <td>WEED TECHNOLOGY</td>\n",
       "      <td>1.703</td>\n",
       "      <td>Andrew Kniss; University of Wyoming; Tea; Came...</td>\n",
       "      <td>GENETIC DIVERSITY</td>\n",
       "      <td>Farmer training is important to improve weed m...</td>\n",
       "      <td>[Chen, Guoqi] Yangzhou Univ, Jiangsu Key Lab C...</td>\n",
       "      <td>China</td>\n",
       "      <td>...</td>\n",
       "      <td>Yangzhou, Jiangsu, China; Guiyang, Guizhou, China</td>\n",
       "      <td>(26.647589899999996, 106.63018999999998); (32....</td>\n",
       "      <td>Guiyang, Guizhou, China; Yangzhou, Jiangsu, China</td>\n",
       "      <td>(26.647589899999996, 106.63018999999998)</td>\n",
       "      <td>1</td>\n",
       "      <td>1</td>\n",
       "      <td>[1080084]</td>\n",
       "      <td>0.5</td>\n",
       "      <td>Xiaofeng</td>\n",
       "      <td>Tan</td>\n",
       "    </tr>\n",
       "    <tr>\n",
       "      <th>10080</th>\n",
       "      <td>291858</td>\n",
       "      <td>Chen, Guoqi; Zhang, Bin; Wu, Qiong; Jin, Linho...</td>\n",
       "      <td>Group characteristics of tea growers relative ...</td>\n",
       "      <td>WEED TECHNOLOGY</td>\n",
       "      <td>1.703</td>\n",
       "      <td>Andrew Kniss; University of Wyoming; Tea; Came...</td>\n",
       "      <td>GENETIC DIVERSITY</td>\n",
       "      <td>Farmer training is important to improve weed m...</td>\n",
       "      <td>[Chen, Guoqi] Yangzhou Univ, Jiangsu Key Lab C...</td>\n",
       "      <td>China</td>\n",
       "      <td>...</td>\n",
       "      <td>Yangzhou, Jiangsu, China; Guiyang, Guizhou, China</td>\n",
       "      <td>(26.647589899999996, 106.63018999999998); (32....</td>\n",
       "      <td>Guiyang, Guizhou, China; Yangzhou, Jiangsu, China</td>\n",
       "      <td>(32.3935799, 119.41269)</td>\n",
       "      <td>1</td>\n",
       "      <td>1</td>\n",
       "      <td>[1080084]</td>\n",
       "      <td>0.5</td>\n",
       "      <td>Guoqi</td>\n",
       "      <td>Chen</td>\n",
       "    </tr>\n",
       "  </tbody>\n",
       "</table>\n",
       "<p>9918 rows × 64 columns</p>\n",
       "</div>"
      ],
      "text/plain": [
       "        index                                  Author Full Names  \\\n",
       "0          15  Amaral, Raquel; Sevcikova, Tereza; Elias, Mare...   \n",
       "1          15  Amaral, Raquel; Sevcikova, Tereza; Elias, Mare...   \n",
       "2          50  Bernard, Miriam S.; Strittmatter, Martina; Mur...   \n",
       "3          50  Bernard, Miriam S.; Strittmatter, Martina; Mur...   \n",
       "4         132  D'Archino, Roberta; Lin, Showe-Mei; Gabrielson...   \n",
       "...       ...                                                ...   \n",
       "10076  290266  Noorizadeh, Sina; Khakvar, Reza; Golmohammadi,...   \n",
       "10077  290469  Teixeira, Luiz; Heck, Daniel; Nomura, Edson; V...   \n",
       "10078  290469  Teixeira, Luiz; Heck, Daniel; Nomura, Edson; V...   \n",
       "10079  291858  Chen, Guoqi; Zhang, Bin; Wu, Qiong; Jin, Linho...   \n",
       "10080  291858  Chen, Guoqi; Zhang, Bin; Wu, Qiong; Jin, Linho...   \n",
       "\n",
       "                                           Article Title  \\\n",
       "0      CharaciopsisBorzi belongs to the Eustigmatophy...   \n",
       "1      CharaciopsisBorzi belongs to the Eustigmatophy...   \n",
       "2      Diversity, biogeography and host specificity o...   \n",
       "3      Diversity, biogeography and host specificity o...   \n",
       "4      Why one species in New Zealand, Pugetia delica...   \n",
       "...                                                  ...   \n",
       "10076  Multilocus genotyping of 'Candidatus Phytoplas...   \n",
       "10077  Soil attributes, plant nutrition, and Fusarium...   \n",
       "10078  Soil attributes, plant nutrition, and Fusarium...   \n",
       "10079  Group characteristics of tea growers relative ...   \n",
       "10080  Group characteristics of tea growers relative ...   \n",
       "\n",
       "                             Journal  impact factor (2020)  \\\n",
       "0      EUROPEAN JOURNAL OF PHYCOLOGY                 0.874   \n",
       "1      EUROPEAN JOURNAL OF PHYCOLOGY                 0.874   \n",
       "2      EUROPEAN JOURNAL OF PHYCOLOGY                 0.874   \n",
       "3      EUROPEAN JOURNAL OF PHYCOLOGY                 0.874   \n",
       "4      EUROPEAN JOURNAL OF PHYCOLOGY                 0.874   \n",
       "...                              ...                   ...   \n",
       "10076       TROPICAL PLANT PATHOLOGY                 1.512   \n",
       "10077       TROPICAL PLANT PATHOLOGY                 1.512   \n",
       "10078       TROPICAL PLANT PATHOLOGY                 1.512   \n",
       "10079                WEED TECHNOLOGY                 1.703   \n",
       "10080                WEED TECHNOLOGY                 1.703   \n",
       "\n",
       "                                         Author Keywords  \\\n",
       "0      Characiopsis; Eustigmataceae group; Eustigmato...   \n",
       "1      Characiopsis; Eustigmataceae group; Eustigmato...   \n",
       "2      5'COI; barcoding; biogeography; endophytes; ho...   \n",
       "3      5'COI; barcoding; biogeography; endophytes; ho...   \n",
       "4      DNA sequencing; endemic genera; large-subunit ...   \n",
       "...                                                  ...   \n",
       "10076      Genetic diversity; Group II intron; Phylogeny   \n",
       "10077  Fusarium oxysporum f; sp; cubense; Musa spp; P...   \n",
       "10078  Fusarium oxysporum f; sp; cubense; Musa spp; P...   \n",
       "10079  Andrew Kniss; University of Wyoming; Tea; Came...   \n",
       "10080  Andrew Kniss; University of Wyoming; Tea; Came...   \n",
       "\n",
       "                                           Keywords Plus  \\\n",
       "0      ALGAL CLASS; PHYLOGENY; ULTRASTRUCTURE; NOMENC...   \n",
       "1      ALGAL CLASS; PHYLOGENY; ULTRASTRUCTURE; NOMENC...   \n",
       "2      ALGA CAULERPA-TAXIFOLIA; NUCLEAR RIBOSOMAL DNA...   \n",
       "3      ALGA CAULERPA-TAXIFOLIA; NUCLEAR RIBOSOMAL DNA...   \n",
       "4      SUBUNIT RDNA; GIGARTINACEAE RHODOPHYTA; MAXIMU...   \n",
       "...                                                  ...   \n",
       "10076  ASTER YELLOWS; PROTEIN; TAXON; LIME; CLASSIFIC...   \n",
       "10077                                                NaN   \n",
       "10078                                                NaN   \n",
       "10079                                  GENETIC DIVERSITY   \n",
       "10080                                  GENETIC DIVERSITY   \n",
       "\n",
       "                                                Abstract  \\\n",
       "0      Characiopsis, established by Borzi in 1895, is...   \n",
       "1      Characiopsis, established by Borzi in 1895, is...   \n",
       "2      Endophytic filamentous brown algae are known t...   \n",
       "3      Endophytic filamentous brown algae are known t...   \n",
       "4      Blade-forming red algae occur worldwide and, p...   \n",
       "...                                                  ...   \n",
       "10076  Witches' broom disease of lime (WBDL), associa...   \n",
       "10077  Fusarium wilt of banana (FWB), caused by Fusar...   \n",
       "10078  Fusarium wilt of banana (FWB), caused by Fusar...   \n",
       "10079  Farmer training is important to improve weed m...   \n",
       "10080  Farmer training is important to improve weed m...   \n",
       "\n",
       "                                  Addresses--all authors  \\\n",
       "0      [Amaral, Raquel; Santos, Lilia M. A.] Univ Coi...   \n",
       "1      [Amaral, Raquel; Santos, Lilia M. A.] Univ Coi...   \n",
       "2      [Bernard, Miriam S.; Heesch, Svenja; Leblanc, ...   \n",
       "3      [Bernard, Miriam S.; Heesch, Svenja; Leblanc, ...   \n",
       "4      [D'Archino, Roberta] Natl Inst Water & Atmosph...   \n",
       "...                                                  ...   \n",
       "10076  [Noorizadeh, Sina; Khakvar, Reza] Tabriz Univ,...   \n",
       "10077  [Teixeira, Luiz] Inst Agron Estado Sao Paulo, ...   \n",
       "10078  [Teixeira, Luiz] Inst Agron Estado Sao Paulo, ...   \n",
       "10079  [Chen, Guoqi] Yangzhou Univ, Jiangsu Key Lab C...   \n",
       "10080  [Chen, Guoqi] Yangzhou Univ, Jiangsu Key Lab C...   \n",
       "\n",
       "                     Nations--all authors  ...  \\\n",
       "0                       Portugal; Czechia  ...   \n",
       "1                       Portugal; Czechia  ...   \n",
       "2           France; Scotland; South Korea  ...   \n",
       "3           France; Scotland; South Korea  ...   \n",
       "4      New Zealand; Taiwan; United States  ...   \n",
       "...                                   ...  ...   \n",
       "10076                                Iran  ...   \n",
       "10077                    Brazil; Colombia  ...   \n",
       "10078                    Brazil; Colombia  ...   \n",
       "10079                               China  ...   \n",
       "10080                               China  ...   \n",
       "\n",
       "                                  Locations--all authors  \\\n",
       "0                    Coimbra, Portugal; Ostrava, Czechia   \n",
       "1                    Coimbra, Portugal; Ostrava, Czechia   \n",
       "2      Roscoff, France; Oban, Argyll, Scotland; Banch...   \n",
       "3      Roscoff, France; Oban, Argyll, Scotland; Banch...   \n",
       "4      Wellington, New Zealand; Keelung, Taiwan; Chap...   \n",
       "...                                                  ...   \n",
       "10076          Tabriz, Iran; Ramsar, Iran; Zarghan, Iran   \n",
       "10077  Campinas, SP, Brazil; Vicosa, MG, Brazil; Pari...   \n",
       "10078  Campinas, SP, Brazil; Vicosa, MG, Brazil; Pari...   \n",
       "10079  Yangzhou, Jiangsu, China; Guiyang, Guizhou, China   \n",
       "10080  Yangzhou, Jiangsu, China; Guiyang, Guizhou, China   \n",
       "\n",
       "                                  Geocoords--all authors  \\\n",
       "0      (40.20331450000001, -8.4102573); (49.8209226, ...   \n",
       "1      (40.20331450000001, -8.4102573); (49.8209226, ...   \n",
       "2      (37.41379999999999, 127.5183); (48.703091, -4....   \n",
       "3      (37.41379999999999, 127.5183); (48.703091, -4....   \n",
       "4      (-41.2923814, 174.77874630000005); (25.1275997...   \n",
       "...                                                  ...   \n",
       "10076  (29.7641623, 52.7134927); (36.9268274, 50.6430...   \n",
       "10077  (-20.7561451, -42.8800278); (-22.7042274, -46....   \n",
       "10078  (-20.7561451, -42.8800278); (-22.7042274, -46....   \n",
       "10079  (26.647589899999996, 106.63018999999998); (32....   \n",
       "10080  (26.647589899999996, 106.63018999999998); (32....   \n",
       "\n",
       "                          Corresponding author locations  \\\n",
       "0                    Coimbra, Portugal; Ostrava, Czechia   \n",
       "1                    Coimbra, Portugal; Ostrava, Czechia   \n",
       "2                        Roscoff, France; Santec, France   \n",
       "3                        Roscoff, France; Santec, France   \n",
       "4               Wellington, New Zealand; Keelung, Taiwan   \n",
       "...                                                  ...   \n",
       "10076                         Tabriz, Iran; Ramsar, Iran   \n",
       "10077               Campinas, SP, Brazil; Cali, Colombia   \n",
       "10078               Campinas, SP, Brazil; Cali, Colombia   \n",
       "10079  Guiyang, Guizhou, China; Yangzhou, Jiangsu, China   \n",
       "10080  Guiyang, Guizhou, China; Yangzhou, Jiangsu, China   \n",
       "\n",
       "                  Corresponding author geocoords  \\\n",
       "0                (40.20331450000001, -8.4102573)   \n",
       "1               (49.8209226, 18.262524300000006)   \n",
       "2                        (48.703091, -4.0292009)   \n",
       "3                         (48.726199, -3.985325)   \n",
       "4              (-41.2923814, 174.77874630000005)   \n",
       "...                                          ...   \n",
       "10076            (38.0791831, 46.28867320000001)   \n",
       "10077          (-22.9099384, -47.06263320000001)   \n",
       "10078   (3.4516467000000004, -76.53198540000002)   \n",
       "10079   (26.647589899999996, 106.63018999999998)   \n",
       "10080                    (32.3935799, 119.41269)   \n",
       "\n",
       "      Number of authoring countries Number of corresponding countries  \\\n",
       "0                                 2                                 2   \n",
       "1                                 2                                 2   \n",
       "2                                 3                                 1   \n",
       "3                                 3                                 1   \n",
       "4                                 3                                 2   \n",
       "...                             ...                               ...   \n",
       "10076                             1                                 1   \n",
       "10077                             2                                 2   \n",
       "10078                             2                                 2   \n",
       "10079                             1                                 1   \n",
       "10080                             1                                 1   \n",
       "\n",
       "                                             unique_NCBI map_props First name  \\\n",
       "0      [425071, 2713033, 1431827, 5747, 44429, 271303...       0.5     Raquel   \n",
       "1      [425071, 2713033, 1431827, 5747, 44429, 271303...       0.5      Marek   \n",
       "2      [90893, 64910, 64922, 64929, 309358, 172714, 6...       0.5  Miriam S.   \n",
       "3      [90893, 64910, 64922, 64929, 309358, 172714, 6...       0.5   Akira F.   \n",
       "4             [217477, 1789642, 1789644, 1789643, 31430]       0.5    Roberta   \n",
       "...                                                  ...       ...        ...   \n",
       "10076                            [33926, 384545, 180978]       0.5    Morteza   \n",
       "10077                                      [61366, 4641]       0.5       Luiz   \n",
       "10078                                      [61366, 4641]       0.5     Miguel   \n",
       "10079                                          [1080084]       0.5   Xiaofeng   \n",
       "10080                                          [1080084]       0.5      Guoqi   \n",
       "\n",
       "          Last name  \n",
       "0            Amaral  \n",
       "1             Elias  \n",
       "2           Bernard  \n",
       "3            Peters  \n",
       "4         D'Archino  \n",
       "...             ...  \n",
       "10076  Golmohammadi  \n",
       "10077      Teixeira  \n",
       "10078          Dita  \n",
       "10079           Tan  \n",
       "10080          Chen  \n",
       "\n",
       "[9918 rows x 64 columns]"
      ]
     },
     "execution_count": 178,
     "metadata": {},
     "output_type": "execute_result"
    }
   ],
   "source": [
    "diff_loc_out[diff_loc_out[\"first and last names\"].map(len)==diff_loc_out[\"first and last names\"].map(len)]"
   ]
  },
  {
   "cell_type": "markdown",
   "id": "562956bb",
   "metadata": {},
   "source": [
    "### Subcase 3: Some authors have different locations. Drop these\n",
    "Some authors may correspond to more than one location and or/ multiple authors may correspond to one location"
   ]
  },
  {
   "cell_type": "code",
   "execution_count": 346,
   "id": "5db26212",
   "metadata": {},
   "outputs": [],
   "source": [
    "# get everything not in subcases 1 or 2\n",
    "step1 = mult_authors_df[~mult_authors_df.isin(one_loc_df)].dropna(subset=['Author Full Names'])\n",
    "mult_loc_df = step1[~step1.isin(diff_loc_df)].dropna(subset=['Author Full Names'])"
   ]
  },
  {
   "cell_type": "code",
   "execution_count": 347,
   "id": "7691c977",
   "metadata": {},
   "outputs": [],
   "source": [
    "data = data[~data.index.isin(mult_loc_df.index)]"
   ]
  },
  {
   "cell_type": "code",
   "execution_count": 348,
   "id": "fe6b2344",
   "metadata": {},
   "outputs": [],
   "source": [
    "data.to_pickle('data_full_gender.pkl')"
   ]
  },
  {
   "cell_type": "code",
   "execution_count": null,
   "id": "8b51efc0",
   "metadata": {},
   "outputs": [],
   "source": []
  }
 ],
 "metadata": {
  "kernelspec": {
   "display_name": "Python 3 (ipykernel)",
   "language": "python",
   "name": "python3"
  },
  "language_info": {
   "codemirror_mode": {
    "name": "ipython",
    "version": 3
   },
   "file_extension": ".py",
   "mimetype": "text/x-python",
   "name": "python",
   "nbconvert_exporter": "python",
   "pygments_lexer": "ipython3",
   "version": "3.8.13"
  }
 },
 "nbformat": 4,
 "nbformat_minor": 5
}
