{
 "cells": [
  {
   "cell_type": "code",
   "execution_count": 1,
   "id": "cc308bab",
   "metadata": {},
   "outputs": [],
   "source": [
    "import pandas as pd\n",
    "import json\n",
    "import numpy as np\n",
    "import glob\n",
    "import functools\n",
    "import re\n",
    "import regex"
   ]
  },
  {
   "cell_type": "code",
   "execution_count": 2,
   "id": "47124e69",
   "metadata": {
    "scrolled": false
   },
   "outputs": [],
   "source": [
    "#read in data and view collumns of interest \n",
    "columns = [\"Corresponding author Addresses\", \"Author Full Names\"]\n",
    "data = pd.read_csv(\"Plt_sci_publications_updated_3.22.csv\", header=0, sep = \",\", low_memory=False, usecols = columns)"
   ]
  },
  {
   "cell_type": "code",
   "execution_count": 3,
   "id": "411cc5c5",
   "metadata": {},
   "outputs": [],
   "source": [
    "# 22 entries do not have corresp. author addresses, so drop them\n",
    "data = data.dropna(subset=['Corresponding author Addresses'])"
   ]
  },
  {
   "cell_type": "code",
   "execution_count": 4,
   "id": "9ede695c",
   "metadata": {},
   "outputs": [],
   "source": [
    "data = data.reset_index(drop = True)"
   ]
  },
  {
   "cell_type": "markdown",
   "id": "f5f7f438",
   "metadata": {},
   "source": [
    "## Extract corresponding author last name and use it to pull associated first name from list of coauthors \n",
    "This apprach doesnt handle situations where two authors on the same paper share a last name, but it matches well in other instances. \n",
    "\n",
    "Results from running this:\n",
    "\n",
    "~15k have duplicate last names.\n",
    "\n",
    "~3k dont retrieve any name becasue of a spelling error. \n",
    "\n",
    "~56k entries have only the first initial of the first name."
   ]
  },
  {
   "cell_type": "code",
   "execution_count": 6,
   "id": "187ce65a",
   "metadata": {},
   "outputs": [
    {
     "data": {
      "text/plain": [
       "'Abad, JP; Marin, I (corresponding author), Univ Autonoma Madrid, Dept Biol Mol, E-28049 Madrid, Spain.'"
      ]
     },
     "execution_count": 6,
     "metadata": {},
     "output_type": "execute_result"
    }
   ],
   "source": [
    "data.loc[0]['Corresponding author Addresses']"
   ]
  },
  {
   "cell_type": "code",
   "execution_count": 6,
   "id": "8f786136",
   "metadata": {},
   "outputs": [],
   "source": [
    "#get last name of the corresponding author from the address line. split text based on white space. keep first word\n",
    "# each entry in the new column has exactly one author\n",
    "data['Corresponding_author_last_name'] = data['Corresponding author Addresses'].str.split(', ').str[0]"
   ]
  },
  {
   "cell_type": "code",
   "execution_count": 7,
   "id": "cbc89107",
   "metadata": {},
   "outputs": [
    {
     "data": {
      "text/html": [
       "<div>\n",
       "<style scoped>\n",
       "    .dataframe tbody tr th:only-of-type {\n",
       "        vertical-align: middle;\n",
       "    }\n",
       "\n",
       "    .dataframe tbody tr th {\n",
       "        vertical-align: top;\n",
       "    }\n",
       "\n",
       "    .dataframe thead th {\n",
       "        text-align: right;\n",
       "    }\n",
       "</style>\n",
       "<table border=\"1\" class=\"dataframe\">\n",
       "  <thead>\n",
       "    <tr style=\"text-align: right;\">\n",
       "      <th></th>\n",
       "      <th>Author Full Names</th>\n",
       "      <th>Corresponding author Addresses</th>\n",
       "      <th>Corresponding_author_last_name</th>\n",
       "    </tr>\n",
       "  </thead>\n",
       "  <tbody>\n",
       "    <tr>\n",
       "      <th>0</th>\n",
       "      <td>Raho, Nicolas; Fraga, Santiago; Abad, Jose P.;...</td>\n",
       "      <td>Abad, JP; Marin, I (corresponding author), Uni...</td>\n",
       "      <td>Abad</td>\n",
       "    </tr>\n",
       "    <tr>\n",
       "      <th>1</th>\n",
       "      <td>Abdel-Hafez, Sobhy I. I.; Abo-Elyousr, Kamal A...</td>\n",
       "      <td>Abdel-Rahim, IR (corresponding author), Assiut...</td>\n",
       "      <td>Abdel-Rahim</td>\n",
       "    </tr>\n",
       "    <tr>\n",
       "      <th>2</th>\n",
       "      <td>Abdelahad, Nadia; Bolpagni, Rossano; Jona Lasi...</td>\n",
       "      <td>Abdelahad, N (corresponding author), Sapienza ...</td>\n",
       "      <td>Abdelahad</td>\n",
       "    </tr>\n",
       "    <tr>\n",
       "      <th>3</th>\n",
       "      <td>Aboal, Marina; Chapuis, Iara; Paiano, Monica O...</td>\n",
       "      <td>Aboal, M (corresponding author), Fac Biol, Dep...</td>\n",
       "      <td>Aboal</td>\n",
       "    </tr>\n",
       "    <tr>\n",
       "      <th>4</th>\n",
       "      <td>Aboal, Marina; Eugenia Garcia-Fernandez, Maria...</td>\n",
       "      <td>Aboal, M (corresponding author), Univ Murcia, ...</td>\n",
       "      <td>Aboal</td>\n",
       "    </tr>\n",
       "    <tr>\n",
       "      <th>...</th>\n",
       "      <td>...</td>\n",
       "      <td>...</td>\n",
       "      <td>...</td>\n",
       "    </tr>\n",
       "    <tr>\n",
       "      <th>292493</th>\n",
       "      <td>Brennan, EB; Smith, RF</td>\n",
       "      <td>Brennan, EB (corresponding author), USDA ARS, ...</td>\n",
       "      <td>Brennan</td>\n",
       "    </tr>\n",
       "    <tr>\n",
       "      <th>292494</th>\n",
       "      <td>Frihauf, John C.; Stahlman, Phillip W.; Geier,...</td>\n",
       "      <td>Frihauf, JC (corresponding author), Kansas Sta...</td>\n",
       "      <td>Frihauf</td>\n",
       "    </tr>\n",
       "    <tr>\n",
       "      <th>292495</th>\n",
       "      <td>Wicks, GA; Nordquist, PT; Baenziger, PS; Klein...</td>\n",
       "      <td>Wicks, GA (corresponding author), Dept Agron &amp;...</td>\n",
       "      <td>Wicks</td>\n",
       "    </tr>\n",
       "    <tr>\n",
       "      <th>292496</th>\n",
       "      <td>Nelson, Kelly A.; Johnson, William G.; Wait, J...</td>\n",
       "      <td>Nelson, KA (corresponding author), Univ Missou...</td>\n",
       "      <td>Nelson</td>\n",
       "    </tr>\n",
       "    <tr>\n",
       "      <th>292497</th>\n",
       "      <td>Bangarwa, Sanjeev K.; Norsworthy, Jason K.; Ma...</td>\n",
       "      <td>Norsworthy, JK (corresponding author), Univ Ar...</td>\n",
       "      <td>Norsworthy</td>\n",
       "    </tr>\n",
       "  </tbody>\n",
       "</table>\n",
       "<p>292498 rows × 3 columns</p>\n",
       "</div>"
      ],
      "text/plain": [
       "                                        Author Full Names  \\\n",
       "0       Raho, Nicolas; Fraga, Santiago; Abad, Jose P.;...   \n",
       "1       Abdel-Hafez, Sobhy I. I.; Abo-Elyousr, Kamal A...   \n",
       "2       Abdelahad, Nadia; Bolpagni, Rossano; Jona Lasi...   \n",
       "3       Aboal, Marina; Chapuis, Iara; Paiano, Monica O...   \n",
       "4       Aboal, Marina; Eugenia Garcia-Fernandez, Maria...   \n",
       "...                                                   ...   \n",
       "292493                             Brennan, EB; Smith, RF   \n",
       "292494  Frihauf, John C.; Stahlman, Phillip W.; Geier,...   \n",
       "292495  Wicks, GA; Nordquist, PT; Baenziger, PS; Klein...   \n",
       "292496  Nelson, Kelly A.; Johnson, William G.; Wait, J...   \n",
       "292497  Bangarwa, Sanjeev K.; Norsworthy, Jason K.; Ma...   \n",
       "\n",
       "                           Corresponding author Addresses  \\\n",
       "0       Abad, JP; Marin, I (corresponding author), Uni...   \n",
       "1       Abdel-Rahim, IR (corresponding author), Assiut...   \n",
       "2       Abdelahad, N (corresponding author), Sapienza ...   \n",
       "3       Aboal, M (corresponding author), Fac Biol, Dep...   \n",
       "4       Aboal, M (corresponding author), Univ Murcia, ...   \n",
       "...                                                   ...   \n",
       "292493  Brennan, EB (corresponding author), USDA ARS, ...   \n",
       "292494  Frihauf, JC (corresponding author), Kansas Sta...   \n",
       "292495  Wicks, GA (corresponding author), Dept Agron &...   \n",
       "292496  Nelson, KA (corresponding author), Univ Missou...   \n",
       "292497  Norsworthy, JK (corresponding author), Univ Ar...   \n",
       "\n",
       "       Corresponding_author_last_name  \n",
       "0                                Abad  \n",
       "1                         Abdel-Rahim  \n",
       "2                           Abdelahad  \n",
       "3                               Aboal  \n",
       "4                               Aboal  \n",
       "...                               ...  \n",
       "292493                        Brennan  \n",
       "292494                        Frihauf  \n",
       "292495                          Wicks  \n",
       "292496                         Nelson  \n",
       "292497                     Norsworthy  \n",
       "\n",
       "[292498 rows x 3 columns]"
      ]
     },
     "execution_count": 7,
     "metadata": {},
     "output_type": "execute_result"
    }
   ],
   "source": [
    "data"
   ]
  },
  {
   "cell_type": "code",
   "execution_count": 8,
   "id": "0934c6ca",
   "metadata": {
    "scrolled": true
   },
   "outputs": [],
   "source": [
    "#fill NaN\n",
    "data[\"Author Full Names\"].fillna(\"NaN\", inplace = True) "
   ]
  },
  {
   "cell_type": "code",
   "execution_count": 9,
   "id": "9b44bd83",
   "metadata": {
    "scrolled": false
   },
   "outputs": [],
   "source": [
    "#Find full name of each corresponding author and write to new collum \"first and last names\"\n",
    "# changed the regex a bit to include everything before the semicolon but nothing after\n",
    "data[\"first and last names\"]=[re.findall(data.iloc[i]['Corresponding_author_last_name']+\"+[^;]*\", data.iloc[i]['Author Full Names']) for i in range(len(data))]"
   ]
  },
  {
   "cell_type": "code",
   "execution_count": 10,
   "id": "2eeed2c4",
   "metadata": {},
   "outputs": [
    {
     "data": {
      "text/html": [
       "<div>\n",
       "<style scoped>\n",
       "    .dataframe tbody tr th:only-of-type {\n",
       "        vertical-align: middle;\n",
       "    }\n",
       "\n",
       "    .dataframe tbody tr th {\n",
       "        vertical-align: top;\n",
       "    }\n",
       "\n",
       "    .dataframe thead th {\n",
       "        text-align: right;\n",
       "    }\n",
       "</style>\n",
       "<table border=\"1\" class=\"dataframe\">\n",
       "  <thead>\n",
       "    <tr style=\"text-align: right;\">\n",
       "      <th></th>\n",
       "      <th>Author Full Names</th>\n",
       "      <th>Corresponding author Addresses</th>\n",
       "      <th>Corresponding_author_last_name</th>\n",
       "      <th>first and last names</th>\n",
       "    </tr>\n",
       "  </thead>\n",
       "  <tbody>\n",
       "    <tr>\n",
       "      <th>0</th>\n",
       "      <td>Raho, Nicolas; Fraga, Santiago; Abad, Jose P.;...</td>\n",
       "      <td>Abad, JP; Marin, I (corresponding author), Uni...</td>\n",
       "      <td>Abad</td>\n",
       "      <td>[Abad, Jose P.]</td>\n",
       "    </tr>\n",
       "    <tr>\n",
       "      <th>1</th>\n",
       "      <td>Abdel-Hafez, Sobhy I. I.; Abo-Elyousr, Kamal A...</td>\n",
       "      <td>Abdel-Rahim, IR (corresponding author), Assiut...</td>\n",
       "      <td>Abdel-Rahim</td>\n",
       "      <td>[Abdel-Rahim, Ismail R.]</td>\n",
       "    </tr>\n",
       "    <tr>\n",
       "      <th>2</th>\n",
       "      <td>Abdelahad, Nadia; Bolpagni, Rossano; Jona Lasi...</td>\n",
       "      <td>Abdelahad, N (corresponding author), Sapienza ...</td>\n",
       "      <td>Abdelahad</td>\n",
       "      <td>[Abdelahad, Nadia]</td>\n",
       "    </tr>\n",
       "    <tr>\n",
       "      <th>3</th>\n",
       "      <td>Aboal, Marina; Chapuis, Iara; Paiano, Monica O...</td>\n",
       "      <td>Aboal, M (corresponding author), Fac Biol, Dep...</td>\n",
       "      <td>Aboal</td>\n",
       "      <td>[Aboal, Marina]</td>\n",
       "    </tr>\n",
       "    <tr>\n",
       "      <th>4</th>\n",
       "      <td>Aboal, Marina; Eugenia Garcia-Fernandez, Maria...</td>\n",
       "      <td>Aboal, M (corresponding author), Univ Murcia, ...</td>\n",
       "      <td>Aboal</td>\n",
       "      <td>[Aboal, Marina]</td>\n",
       "    </tr>\n",
       "    <tr>\n",
       "      <th>...</th>\n",
       "      <td>...</td>\n",
       "      <td>...</td>\n",
       "      <td>...</td>\n",
       "      <td>...</td>\n",
       "    </tr>\n",
       "    <tr>\n",
       "      <th>292493</th>\n",
       "      <td>Brennan, EB; Smith, RF</td>\n",
       "      <td>Brennan, EB (corresponding author), USDA ARS, ...</td>\n",
       "      <td>Brennan</td>\n",
       "      <td>[Brennan, EB]</td>\n",
       "    </tr>\n",
       "    <tr>\n",
       "      <th>292494</th>\n",
       "      <td>Frihauf, John C.; Stahlman, Phillip W.; Geier,...</td>\n",
       "      <td>Frihauf, JC (corresponding author), Kansas Sta...</td>\n",
       "      <td>Frihauf</td>\n",
       "      <td>[Frihauf, John C.]</td>\n",
       "    </tr>\n",
       "    <tr>\n",
       "      <th>292495</th>\n",
       "      <td>Wicks, GA; Nordquist, PT; Baenziger, PS; Klein...</td>\n",
       "      <td>Wicks, GA (corresponding author), Dept Agron &amp;...</td>\n",
       "      <td>Wicks</td>\n",
       "      <td>[Wicks, GA]</td>\n",
       "    </tr>\n",
       "    <tr>\n",
       "      <th>292496</th>\n",
       "      <td>Nelson, Kelly A.; Johnson, William G.; Wait, J...</td>\n",
       "      <td>Nelson, KA (corresponding author), Univ Missou...</td>\n",
       "      <td>Nelson</td>\n",
       "      <td>[Nelson, Kelly A.]</td>\n",
       "    </tr>\n",
       "    <tr>\n",
       "      <th>292497</th>\n",
       "      <td>Bangarwa, Sanjeev K.; Norsworthy, Jason K.; Ma...</td>\n",
       "      <td>Norsworthy, JK (corresponding author), Univ Ar...</td>\n",
       "      <td>Norsworthy</td>\n",
       "      <td>[Norsworthy, Jason K.]</td>\n",
       "    </tr>\n",
       "  </tbody>\n",
       "</table>\n",
       "<p>292498 rows × 4 columns</p>\n",
       "</div>"
      ],
      "text/plain": [
       "                                        Author Full Names  \\\n",
       "0       Raho, Nicolas; Fraga, Santiago; Abad, Jose P.;...   \n",
       "1       Abdel-Hafez, Sobhy I. I.; Abo-Elyousr, Kamal A...   \n",
       "2       Abdelahad, Nadia; Bolpagni, Rossano; Jona Lasi...   \n",
       "3       Aboal, Marina; Chapuis, Iara; Paiano, Monica O...   \n",
       "4       Aboal, Marina; Eugenia Garcia-Fernandez, Maria...   \n",
       "...                                                   ...   \n",
       "292493                             Brennan, EB; Smith, RF   \n",
       "292494  Frihauf, John C.; Stahlman, Phillip W.; Geier,...   \n",
       "292495  Wicks, GA; Nordquist, PT; Baenziger, PS; Klein...   \n",
       "292496  Nelson, Kelly A.; Johnson, William G.; Wait, J...   \n",
       "292497  Bangarwa, Sanjeev K.; Norsworthy, Jason K.; Ma...   \n",
       "\n",
       "                           Corresponding author Addresses  \\\n",
       "0       Abad, JP; Marin, I (corresponding author), Uni...   \n",
       "1       Abdel-Rahim, IR (corresponding author), Assiut...   \n",
       "2       Abdelahad, N (corresponding author), Sapienza ...   \n",
       "3       Aboal, M (corresponding author), Fac Biol, Dep...   \n",
       "4       Aboal, M (corresponding author), Univ Murcia, ...   \n",
       "...                                                   ...   \n",
       "292493  Brennan, EB (corresponding author), USDA ARS, ...   \n",
       "292494  Frihauf, JC (corresponding author), Kansas Sta...   \n",
       "292495  Wicks, GA (corresponding author), Dept Agron &...   \n",
       "292496  Nelson, KA (corresponding author), Univ Missou...   \n",
       "292497  Norsworthy, JK (corresponding author), Univ Ar...   \n",
       "\n",
       "       Corresponding_author_last_name      first and last names  \n",
       "0                                Abad           [Abad, Jose P.]  \n",
       "1                         Abdel-Rahim  [Abdel-Rahim, Ismail R.]  \n",
       "2                           Abdelahad        [Abdelahad, Nadia]  \n",
       "3                               Aboal           [Aboal, Marina]  \n",
       "4                               Aboal           [Aboal, Marina]  \n",
       "...                               ...                       ...  \n",
       "292493                        Brennan             [Brennan, EB]  \n",
       "292494                        Frihauf        [Frihauf, John C.]  \n",
       "292495                          Wicks               [Wicks, GA]  \n",
       "292496                         Nelson        [Nelson, Kelly A.]  \n",
       "292497                     Norsworthy    [Norsworthy, Jason K.]  \n",
       "\n",
       "[292498 rows x 4 columns]"
      ]
     },
     "execution_count": 10,
     "metadata": {},
     "output_type": "execute_result"
    }
   ],
   "source": [
    "data"
   ]
  },
  {
   "cell_type": "markdown",
   "id": "2aa29cac",
   "metadata": {},
   "source": [
    "## We have first and last names for most authors now. We work on the special cases below."
   ]
  },
  {
   "cell_type": "markdown",
   "id": "542412b6",
   "metadata": {},
   "source": [
    "##### Johannes van Staden\n",
    "\n",
    "Appears as Van Staden, J. and van Staden, J, so we should consolidate these names. No other author in the top 100 appears to have this thing going on"
   ]
  },
  {
   "cell_type": "code",
   "execution_count": 11,
   "id": "e078fe47",
   "metadata": {
    "scrolled": true
   },
   "outputs": [],
   "source": [
    "#possible appraoch for reducing the number of first innitial only names \n",
    "#out of curiosity, what are the most common names? who has published the most? \n",
    "# this only counts frequency of first author name in name list\n",
    "auth_frequency = data[\"first and last names\"].str[0].value_counts()"
   ]
  },
  {
   "cell_type": "code",
   "execution_count": 12,
   "id": "b0def601",
   "metadata": {},
   "outputs": [
    {
     "data": {
      "text/plain": [
       "Van Staden, J.          144\n",
       "Van Staden, Johannes    110\n",
       "van Staden, J           107\n",
       "Li                       98\n",
       "Lin                      88\n",
       "                       ... \n",
       "Guerrero, B.              1\n",
       "Gueant, JL                1\n",
       "Gu, Chunsun               1\n",
       "Gronwald, J. W.           1\n",
       "Brennan, EB               1\n",
       "Name: first and last names, Length: 130283, dtype: int64"
      ]
     },
     "execution_count": 12,
     "metadata": {},
     "output_type": "execute_result"
    }
   ],
   "source": [
    "auth_frequency"
   ]
  },
  {
   "cell_type": "code",
   "execution_count": 13,
   "id": "36684140",
   "metadata": {},
   "outputs": [],
   "source": [
    "JVS = data[data['Corresponding_author_last_name'].str.contains('Van Staden', case = False)].index"
   ]
  },
  {
   "cell_type": "code",
   "execution_count": 14,
   "id": "23c4d6af",
   "metadata": {},
   "outputs": [],
   "source": [
    "for i in JVS:\n",
    "    data.loc[i]['first and last names'] = ['Van Staden, Johannes']"
   ]
  },
  {
   "cell_type": "markdown",
   "id": "bdb065cf",
   "metadata": {},
   "source": [
    "#####  Attila Molnar V\n",
    "\n",
    "First name is Attila, caught this because having a one-letter corresp. author address last name gave error"
   ]
  },
  {
   "cell_type": "code",
   "execution_count": 16,
   "id": "cfdce0ac",
   "metadata": {},
   "outputs": [],
   "source": [
    "data.loc[286932]['first and last names'] = ['Molnar V, Attila']"
   ]
  },
  {
   "cell_type": "markdown",
   "id": "ca33c154",
   "metadata": {},
   "source": [
    "#### Special case 0. Multiple corresponding authors\n",
    "Not doing anything here besides finding the names. It's up to you if you want to drop these or include both (either would not be too hard)"
   ]
  },
  {
   "cell_type": "code",
   "execution_count": 71,
   "id": "bfd4acdb",
   "metadata": {},
   "outputs": [],
   "source": [
    "mult_first_authors = []\n",
    "\n",
    "for i in data.index:\n",
    "    if ';' in data['Corresponding author Addresses'][i]:\n",
    "        mult_first_authors.append(i)"
   ]
  },
  {
   "cell_type": "markdown",
   "id": "cd52ae79",
   "metadata": {},
   "source": [
    "#### Special case 1. first innitial only (MANY instances)\n",
    "Note: look to see which journals and countries the all_initials people come from."
   ]
  },
  {
   "cell_type": "code",
   "execution_count": 17,
   "id": "90e7bd11",
   "metadata": {},
   "outputs": [],
   "source": [
    "# gather all names of the form Lastname, AB\n",
    "all_initials = []\n",
    "\n",
    "for i in data.index:\n",
    "    author_list = data.loc[i]['Author Full Names'].split('; ')\n",
    "    if len([x for x in author_list if not re.findall(', [A-Z]{1,}$',x) and not re.findall(', [A-Z]. [A-Z].$',x) and not re.findall(', [A-Z].$',x)]) == 0:\n",
    "        all_initials.append(i)\n",
    "\n",
    "# remove entries with names found above from the dataset\n",
    "no_initials = data[~data.index.isin(all_initials)]"
   ]
  },
  {
   "cell_type": "markdown",
   "id": "abf0b029",
   "metadata": {},
   "source": [
    "#### Special case 2: Names do not have a comma separating first and last name\n",
    "\n",
    "Basically all entries are researchers at Chinese or Vietnamese institutions. Chinese names are in the form \"Familyname givenname\" and Vietnamese names vary in form.\n",
    "\n",
    "Need to re-extract full names because the code to extract names above was dependent on commas"
   ]
  },
  {
   "cell_type": "code",
   "execution_count": 21,
   "id": "28c967b5",
   "metadata": {},
   "outputs": [],
   "source": [
    "# find all authors with no comma in name\n",
    "name_order = []\n",
    "\n",
    "for i in no_initials.index:\n",
    "    if ',' not in no_initials.loc[i]['Author Full Names']:\n",
    "        name_order.append(i)\n",
    "        \n",
    "name_order_df = no_initials.loc[name_order]"
   ]
  },
  {
   "cell_type": "code",
   "execution_count": 23,
   "id": "7474496f",
   "metadata": {},
   "outputs": [],
   "source": [
    "# Name order seems to vary, go through these manually, only 81 entries\n",
    "Vietnamese_authors = []\n",
    "\n",
    "# larger list, automated process to go through these is down below\n",
    "Chinese_authors = []\n",
    "\n",
    "# Very small list, go through these manually\n",
    "Other_authors = []\n",
    "\n",
    "for i in name_order_df.index:\n",
    "    if 'Vietnam' in name_order_df.loc[i]['Corresponding author Addresses']:\n",
    "        Vietnamese_authors.append(i)\n",
    "    elif 'China' in name_order_df.loc[i]['Corresponding author Addresses']:\n",
    "        Chinese_authors.append(i)\n",
    "    else:\n",
    "        Other_authors.append(i)"
   ]
  },
  {
   "cell_type": "code",
   "execution_count": 24,
   "id": "a305f6a9",
   "metadata": {},
   "outputs": [],
   "source": [
    "Chinese_df = no_initials.loc[Chinese_authors]"
   ]
  },
  {
   "cell_type": "code",
   "execution_count": 25,
   "id": "cad578a2",
   "metadata": {},
   "outputs": [],
   "source": [
    "# find last name and first initial of corresponding author\n",
    "Chinese_df['Corresponding_author_last_name_init'] = Chinese_df['Corresponding author Addresses'].str.findall(r'^[^,]*,..').str[0]"
   ]
  },
  {
   "cell_type": "code",
   "execution_count": 26,
   "id": "20eb4ce9",
   "metadata": {},
   "outputs": [],
   "source": [
    "# list all authors\n",
    "Chinese_df['all_names'] = Chinese_df['Author Full Names'].str.split('; ')"
   ]
  },
  {
   "cell_type": "code",
   "execution_count": 27,
   "id": "080788b3",
   "metadata": {},
   "outputs": [],
   "source": [
    "# find corresponding author from list of all authors\n",
    "Chinese_df[\"first and last names\"]=[re.findall(Chinese_df.loc[i]['Corresponding_author_last_name']+\" \"+Chinese_df.loc[i]['Corresponding_author_last_name_init'][-1]+\"[a-zA-Z ]*\", '; '.join(Chinese_df.loc[i]['all_names'])) for i in Chinese_df.index]"
   ]
  },
  {
   "cell_type": "code",
   "execution_count": 28,
   "id": "3ff7c427",
   "metadata": {},
   "outputs": [],
   "source": [
    "# the cell above returns some entries with more than one matching author\n",
    "# manually review these\n",
    "# these are names from authors in China that didn't have commas that do not have a unique surname\n",
    "to_review = [i for i in Chinese_df.index if len(Chinese_df.loc[i]['first and last names'])>1]"
   ]
  },
  {
   "cell_type": "code",
   "execution_count": 29,
   "id": "8b74cb45",
   "metadata": {},
   "outputs": [],
   "source": [
    "# remove the special cases from the cell above\n",
    "Chinese_df = Chinese_df[~Chinese_df.index.isin(to_review)]"
   ]
  },
  {
   "cell_type": "code",
   "execution_count": 30,
   "id": "60d711ac",
   "metadata": {},
   "outputs": [],
   "source": [
    "# reformat names to be \"family name, given name\"\n",
    "comma_names = []\n",
    "\n",
    "for i in list(Chinese_df['first and last names']):\n",
    "    comma_names.append([ \", \".join(item.split(\" \")) for item in i])\n",
    "    \n",
    "Chinese_df['first and last names'] = comma_names"
   ]
  },
  {
   "cell_type": "code",
   "execution_count": 32,
   "id": "331e68dd",
   "metadata": {},
   "outputs": [],
   "source": [
    "# replace names in larger dataframe with names that have comma in them\n",
    "for i in Chinese_df.index:\n",
    "    no_initials.loc[i]['first and last names'] = Chinese_df.loc[i]['first and last names']"
   ]
  },
  {
   "cell_type": "markdown",
   "id": "a812a214",
   "metadata": {},
   "source": [
    "#### Special case 3. two or more authors with same last name (~15k instances )\n",
    "if a row has more than two comma seperated vlaues in \"first and last names\" go to \"Corresponding_author_last_name\" and pull out the last name plus the first initial then run pattern match against \"author full names\" to isolate just the corresponding author and pull their first name"
   ]
  },
  {
   "cell_type": "code",
   "execution_count": 33,
   "id": "49a5dc43",
   "metadata": {},
   "outputs": [],
   "source": [
    "# create a dataframe of all entries with two or more authors with the same last name\n",
    "\n",
    "mult_authors = []\n",
    "\n",
    "for i in no_initials.index:\n",
    "    if len(no_initials['first and last names'][i])>1:\n",
    "        mult_authors.append(i)\n",
    "        \n",
    "mult_author_df = no_initials.loc[mult_authors]"
   ]
  },
  {
   "cell_type": "code",
   "execution_count": 35,
   "id": "30cb1e2d",
   "metadata": {},
   "outputs": [],
   "source": [
    "# get last name and first initial of corresponding author\n",
    "mult_author_df['Corresponding_author_last_name'] = mult_author_df['Corresponding author Addresses'].str.findall(r'^[^,]*,..').str[0]"
   ]
  },
  {
   "cell_type": "code",
   "execution_count": 36,
   "id": "bfbec524",
   "metadata": {},
   "outputs": [],
   "source": [
    "# use previous cell to find first and last names of corresponding authors\n",
    "author_matches = []\n",
    "\n",
    "for i in mult_author_df.index:\n",
    "    mylist = mult_author_df.loc[i]['first and last names']\n",
    "    r = re.compile(str(mult_author_df.loc[i]['Corresponding_author_last_name'])+\".*\")\n",
    "    newlist = list(filter(r.match, mylist))\n",
    "    author_matches.append(newlist)\n",
    "    \n",
    "mult_author_df['first and last names'] = author_matches"
   ]
  },
  {
   "cell_type": "code",
   "execution_count": 38,
   "id": "746d50ab",
   "metadata": {},
   "outputs": [
    {
     "data": {
      "text/html": [
       "<div>\n",
       "<style scoped>\n",
       "    .dataframe tbody tr th:only-of-type {\n",
       "        vertical-align: middle;\n",
       "    }\n",
       "\n",
       "    .dataframe tbody tr th {\n",
       "        vertical-align: top;\n",
       "    }\n",
       "\n",
       "    .dataframe thead th {\n",
       "        text-align: right;\n",
       "    }\n",
       "</style>\n",
       "<table border=\"1\" class=\"dataframe\">\n",
       "  <thead>\n",
       "    <tr style=\"text-align: right;\">\n",
       "      <th></th>\n",
       "      <th>Author Full Names</th>\n",
       "      <th>Corresponding author Addresses</th>\n",
       "      <th>Corresponding_author_last_name</th>\n",
       "      <th>first and last names</th>\n",
       "    </tr>\n",
       "  </thead>\n",
       "  <tbody>\n",
       "    <tr>\n",
       "      <th>33</th>\n",
       "      <td>Ruan, Kun; Duan, Jingbo; Bai, Fangwen; Lemaire...</td>\n",
       "      <td>Bai, LH (corresponding author), Sichuan Univ, ...</td>\n",
       "      <td>Bai, L</td>\n",
       "      <td>[Bai, Linhan]</td>\n",
       "    </tr>\n",
       "    <tr>\n",
       "      <th>77</th>\n",
       "      <td>Buchheim, Mark A.; Sutherland, Danica M.; Buch...</td>\n",
       "      <td>Buchheim, MA (corresponding author), Univ Tuls...</td>\n",
       "      <td>Buchheim, M</td>\n",
       "      <td>[Buchheim, Mark A.]</td>\n",
       "    </tr>\n",
       "    <tr>\n",
       "      <th>162</th>\n",
       "      <td>Diaz, Patricio A.; Molinet, Carlos; Seguel, Mi...</td>\n",
       "      <td>Diaz, PA (corresponding author), Univ Los Lago...</td>\n",
       "      <td>Diaz, P</td>\n",
       "      <td>[Diaz, Patricio A.]</td>\n",
       "    </tr>\n",
       "    <tr>\n",
       "      <th>249</th>\n",
       "      <td>Luo, Zhaohe; Mertens, Kenneth Neil; Nezan, Eli...</td>\n",
       "      <td>Gu, HF (corresponding author), Minist Nat Reso...</td>\n",
       "      <td>Gu, H</td>\n",
       "      <td>[Gu, Haifeng]</td>\n",
       "    </tr>\n",
       "    <tr>\n",
       "      <th>251</th>\n",
       "      <td>Luo, Zhaohe; Lim, Zhen Fei; Mertens, Kenneth N...</td>\n",
       "      <td>Gu, HF (corresponding author), SOA, Inst Ocean...</td>\n",
       "      <td>Gu, H</td>\n",
       "      <td>[Gu, Haifeng]</td>\n",
       "    </tr>\n",
       "    <tr>\n",
       "      <th>...</th>\n",
       "      <td>...</td>\n",
       "      <td>...</td>\n",
       "      <td>...</td>\n",
       "      <td>...</td>\n",
       "    </tr>\n",
       "    <tr>\n",
       "      <th>291863</th>\n",
       "      <td>Cong, Cong; Wang, Zhaozhen; Li, Rongrong; Li, ...</td>\n",
       "      <td>Wang, JX (corresponding author), Shandong Agr ...</td>\n",
       "      <td>Wang, J</td>\n",
       "      <td>[Wang, Jinxin]</td>\n",
       "    </tr>\n",
       "    <tr>\n",
       "      <th>291923</th>\n",
       "      <td>Ma, Xiaoyan; Yang, Jinyan; Wu, Hanwen; Jiang, ...</td>\n",
       "      <td>Ma, XY (corresponding author), Chinese Acad Ag...</td>\n",
       "      <td>Ma, X</td>\n",
       "      <td>[Ma, Xiaoyan]</td>\n",
       "    </tr>\n",
       "    <tr>\n",
       "      <th>292097</th>\n",
       "      <td>Young, Frank L.; Thorne, Mark E.; Young, Dougl...</td>\n",
       "      <td>Young, FL (corresponding author), Washington S...</td>\n",
       "      <td>Young, F</td>\n",
       "      <td>[Young, Frank L.]</td>\n",
       "    </tr>\n",
       "    <tr>\n",
       "      <th>292180</th>\n",
       "      <td>Harre, Nick T.; Duncan, Garth W.; Young, Julie...</td>\n",
       "      <td>Young, BG (corresponding author), Purdue Univ,...</td>\n",
       "      <td>Young, B</td>\n",
       "      <td>[Young, Bryan G.]</td>\n",
       "    </tr>\n",
       "    <tr>\n",
       "      <th>292422</th>\n",
       "      <td>Kaur, H.; Kaur, Navneet; Gill, R. I. S.; Bhull...</td>\n",
       "      <td>Kaur, N (corresponding author), Punjab Agr Uni...</td>\n",
       "      <td>Kaur, N</td>\n",
       "      <td>[Kaur, Navneet]</td>\n",
       "    </tr>\n",
       "  </tbody>\n",
       "</table>\n",
       "<p>17480 rows × 4 columns</p>\n",
       "</div>"
      ],
      "text/plain": [
       "                                        Author Full Names  \\\n",
       "33      Ruan, Kun; Duan, Jingbo; Bai, Fangwen; Lemaire...   \n",
       "77      Buchheim, Mark A.; Sutherland, Danica M.; Buch...   \n",
       "162     Diaz, Patricio A.; Molinet, Carlos; Seguel, Mi...   \n",
       "249     Luo, Zhaohe; Mertens, Kenneth Neil; Nezan, Eli...   \n",
       "251     Luo, Zhaohe; Lim, Zhen Fei; Mertens, Kenneth N...   \n",
       "...                                                   ...   \n",
       "291863  Cong, Cong; Wang, Zhaozhen; Li, Rongrong; Li, ...   \n",
       "291923  Ma, Xiaoyan; Yang, Jinyan; Wu, Hanwen; Jiang, ...   \n",
       "292097  Young, Frank L.; Thorne, Mark E.; Young, Dougl...   \n",
       "292180  Harre, Nick T.; Duncan, Garth W.; Young, Julie...   \n",
       "292422  Kaur, H.; Kaur, Navneet; Gill, R. I. S.; Bhull...   \n",
       "\n",
       "                           Corresponding author Addresses  \\\n",
       "33      Bai, LH (corresponding author), Sichuan Univ, ...   \n",
       "77      Buchheim, MA (corresponding author), Univ Tuls...   \n",
       "162     Diaz, PA (corresponding author), Univ Los Lago...   \n",
       "249     Gu, HF (corresponding author), Minist Nat Reso...   \n",
       "251     Gu, HF (corresponding author), SOA, Inst Ocean...   \n",
       "...                                                   ...   \n",
       "291863  Wang, JX (corresponding author), Shandong Agr ...   \n",
       "291923  Ma, XY (corresponding author), Chinese Acad Ag...   \n",
       "292097  Young, FL (corresponding author), Washington S...   \n",
       "292180  Young, BG (corresponding author), Purdue Univ,...   \n",
       "292422  Kaur, N (corresponding author), Punjab Agr Uni...   \n",
       "\n",
       "       Corresponding_author_last_name first and last names  \n",
       "33                             Bai, L        [Bai, Linhan]  \n",
       "77                        Buchheim, M  [Buchheim, Mark A.]  \n",
       "162                           Diaz, P  [Diaz, Patricio A.]  \n",
       "249                             Gu, H        [Gu, Haifeng]  \n",
       "251                             Gu, H        [Gu, Haifeng]  \n",
       "...                               ...                  ...  \n",
       "291863                        Wang, J       [Wang, Jinxin]  \n",
       "291923                          Ma, X        [Ma, Xiaoyan]  \n",
       "292097                       Young, F    [Young, Frank L.]  \n",
       "292180                       Young, B    [Young, Bryan G.]  \n",
       "292422                        Kaur, N      [Kaur, Navneet]  \n",
       "\n",
       "[17480 rows x 4 columns]"
      ]
     },
     "execution_count": 38,
     "metadata": {},
     "output_type": "execute_result"
    }
   ],
   "source": [
    "mult_author_df"
   ]
  },
  {
   "cell_type": "code",
   "execution_count": 39,
   "id": "1057922a",
   "metadata": {},
   "outputs": [],
   "source": [
    "# create df with all entries without exactly one author name per entry (this happens when multiple authors have \n",
    "# same last  name and first initial)\n",
    "# 1539 such entries\n",
    "\n",
    "# collect all entries without exactly one name in \"first and last names\"\n",
    "problems_mult = []\n",
    "\n",
    "for i in mult_author_df.index:\n",
    "    if len(mult_author_df.loc[i]['first and last names']) != 1:\n",
    "        problems_mult.append(i)\n",
    "\n",
    "# find these entries in original data set\n",
    "for i in mult_author_df.index:\n",
    "    no_initials.loc[i]['first and last names'] = mult_author_df.loc[i]['first and last names']\n",
    "    \n",
    "mult_problems_df = mult_author_df.loc[problems_mult]"
   ]
  },
  {
   "cell_type": "markdown",
   "id": "2eeddc8e",
   "metadata": {},
   "source": [
    "It is probably impossible to determine who the corresponding author is when there is only one first initial. However, if there are two first initials, we can probably figure it out."
   ]
  },
  {
   "cell_type": "code",
   "execution_count": null,
   "id": "efe3ddd1",
   "metadata": {},
   "outputs": [],
   "source": [
    "# step 0: isolate names with two first initials"
   ]
  },
  {
   "cell_type": "code",
   "execution_count": 58,
   "id": "5d3431dc",
   "metadata": {},
   "outputs": [],
   "source": [
    "mult_problems_df['first_initials'] = no_initials.loc[problems_mult]['Corresponding author Addresses'].str.split(', ').str[1]"
   ]
  },
  {
   "cell_type": "code",
   "execution_count": 65,
   "id": "3c17bac4",
   "metadata": {},
   "outputs": [],
   "source": [
    "mult_problems_df['first_initials'] = mult_problems_df['first_initials'].str.split().str[0]"
   ]
  },
  {
   "cell_type": "code",
   "execution_count": 66,
   "id": "0500fb8a",
   "metadata": {},
   "outputs": [
    {
     "data": {
      "text/html": [
       "<div>\n",
       "<style scoped>\n",
       "    .dataframe tbody tr th:only-of-type {\n",
       "        vertical-align: middle;\n",
       "    }\n",
       "\n",
       "    .dataframe tbody tr th {\n",
       "        vertical-align: top;\n",
       "    }\n",
       "\n",
       "    .dataframe thead th {\n",
       "        text-align: right;\n",
       "    }\n",
       "</style>\n",
       "<table border=\"1\" class=\"dataframe\">\n",
       "  <thead>\n",
       "    <tr style=\"text-align: right;\">\n",
       "      <th></th>\n",
       "      <th>Author Full Names</th>\n",
       "      <th>Corresponding author Addresses</th>\n",
       "      <th>Corresponding_author_last_name</th>\n",
       "      <th>first and last names</th>\n",
       "      <th>first_initials</th>\n",
       "    </tr>\n",
       "  </thead>\n",
       "  <tbody>\n",
       "    <tr>\n",
       "      <th>2512</th>\n",
       "      <td>Kim, Myung Sook; Kim, Miryang; Terada, Ryuta; ...</td>\n",
       "      <td>Kim, MS (corresponding author), Pusan Natl Uni...</td>\n",
       "      <td>Kim, M</td>\n",
       "      <td>[Kim, Myung Sook, Kim, Miryang]</td>\n",
       "      <td>MS</td>\n",
       "    </tr>\n",
       "    <tr>\n",
       "      <th>3397</th>\n",
       "      <td>Zhang, Li-Bing; Zhang, Liang</td>\n",
       "      <td>Zhang, LB (corresponding author), Chinese Acad...</td>\n",
       "      <td>Zhang, L</td>\n",
       "      <td>[Zhang, Li-Bing, Zhang, Liang]</td>\n",
       "      <td>LB</td>\n",
       "    </tr>\n",
       "    <tr>\n",
       "      <th>3400</th>\n",
       "      <td>Zhang, Li-Bing; Zhang, Liang</td>\n",
       "      <td>Zhang, LB (corresponding author), Missouri Bot...</td>\n",
       "      <td>Zhang, L</td>\n",
       "      <td>[Zhang, Li-Bing, Zhang, Liang]</td>\n",
       "      <td>LB</td>\n",
       "    </tr>\n",
       "    <tr>\n",
       "      <th>4068</th>\n",
       "      <td>Hanson, Nikki; Ross-Davis, Amy L.; Davis, Anth...</td>\n",
       "      <td>Davis, AS (corresponding author), Oregon State...</td>\n",
       "      <td>Davis, A</td>\n",
       "      <td>[Davis, Amy L., Davis, Anthony S.]</td>\n",
       "      <td>AS</td>\n",
       "    </tr>\n",
       "    <tr>\n",
       "      <th>5222</th>\n",
       "      <td>Lopez-Aranda, Jose M.; Miranda, Luis; Medina, ...</td>\n",
       "      <td>Santos, BM (corresponding author), Univ Florid...</td>\n",
       "      <td>Santos, B</td>\n",
       "      <td>[Santos, Berta, Santos, Biclinski M.]</td>\n",
       "      <td>BM</td>\n",
       "    </tr>\n",
       "    <tr>\n",
       "      <th>...</th>\n",
       "      <td>...</td>\n",
       "      <td>...</td>\n",
       "      <td>...</td>\n",
       "      <td>...</td>\n",
       "      <td>...</td>\n",
       "    </tr>\n",
       "    <tr>\n",
       "      <th>289765</th>\n",
       "      <td>Ali, Ahmad; Wang Jin-Da; Pan Yong-Bao; Deng Zu...</td>\n",
       "      <td>Chen, RK; Gao, SJ (corresponding author), Fuji...</td>\n",
       "      <td>Chen, R</td>\n",
       "      <td>[]</td>\n",
       "      <td>RK;</td>\n",
       "    </tr>\n",
       "    <tr>\n",
       "      <th>289783</th>\n",
       "      <td>Ibrahim, Aminu Kurawa; Xu, Yi; Niyitanga, Sylv...</td>\n",
       "      <td>Zhang, LW (corresponding author), Fujian Agr &amp;...</td>\n",
       "      <td>Zhang, L</td>\n",
       "      <td>[Zhang, Lilan, Zhang, Liemei, Zhang, Liwu]</td>\n",
       "      <td>LW</td>\n",
       "    </tr>\n",
       "    <tr>\n",
       "      <th>291040</th>\n",
       "      <td>Namdjoyan, Shahram; Namdjoyan, Shahrokh; Kerma...</td>\n",
       "      <td>Namdjoyan, S (corresponding author), Islamic A...</td>\n",
       "      <td>Namdjoyan, S</td>\n",
       "      <td>[Namdjoyan, Shahram, Namdjoyan, Shahrokh]</td>\n",
       "      <td>S</td>\n",
       "    </tr>\n",
       "    <tr>\n",
       "      <th>291208</th>\n",
       "      <td>Thanh Son Lo; Hoang Duc Le; Vu Thanh Thanh Ngu...</td>\n",
       "      <td>Chu, HM (corresponding author), Thai Nguyen Un...</td>\n",
       "      <td>Chu, H</td>\n",
       "      <td>[]</td>\n",
       "      <td>HM</td>\n",
       "    </tr>\n",
       "    <tr>\n",
       "      <th>291814</th>\n",
       "      <td>Ma, Xiaoyan; Ma, Yajie; Wu, Hanwen; Ren, Xiang...</td>\n",
       "      <td>Ma, Y (corresponding author), Chinese Acad Agr...</td>\n",
       "      <td>Ma, Y</td>\n",
       "      <td>[Ma, Yajie, Ma, Yan]</td>\n",
       "      <td>Y</td>\n",
       "    </tr>\n",
       "  </tbody>\n",
       "</table>\n",
       "<p>1462 rows × 5 columns</p>\n",
       "</div>"
      ],
      "text/plain": [
       "                                        Author Full Names  \\\n",
       "2512    Kim, Myung Sook; Kim, Miryang; Terada, Ryuta; ...   \n",
       "3397                         Zhang, Li-Bing; Zhang, Liang   \n",
       "3400                         Zhang, Li-Bing; Zhang, Liang   \n",
       "4068    Hanson, Nikki; Ross-Davis, Amy L.; Davis, Anth...   \n",
       "5222    Lopez-Aranda, Jose M.; Miranda, Luis; Medina, ...   \n",
       "...                                                   ...   \n",
       "289765  Ali, Ahmad; Wang Jin-Da; Pan Yong-Bao; Deng Zu...   \n",
       "289783  Ibrahim, Aminu Kurawa; Xu, Yi; Niyitanga, Sylv...   \n",
       "291040  Namdjoyan, Shahram; Namdjoyan, Shahrokh; Kerma...   \n",
       "291208  Thanh Son Lo; Hoang Duc Le; Vu Thanh Thanh Ngu...   \n",
       "291814  Ma, Xiaoyan; Ma, Yajie; Wu, Hanwen; Ren, Xiang...   \n",
       "\n",
       "                           Corresponding author Addresses  \\\n",
       "2512    Kim, MS (corresponding author), Pusan Natl Uni...   \n",
       "3397    Zhang, LB (corresponding author), Chinese Acad...   \n",
       "3400    Zhang, LB (corresponding author), Missouri Bot...   \n",
       "4068    Davis, AS (corresponding author), Oregon State...   \n",
       "5222    Santos, BM (corresponding author), Univ Florid...   \n",
       "...                                                   ...   \n",
       "289765  Chen, RK; Gao, SJ (corresponding author), Fuji...   \n",
       "289783  Zhang, LW (corresponding author), Fujian Agr &...   \n",
       "291040  Namdjoyan, S (corresponding author), Islamic A...   \n",
       "291208  Chu, HM (corresponding author), Thai Nguyen Un...   \n",
       "291814  Ma, Y (corresponding author), Chinese Acad Agr...   \n",
       "\n",
       "       Corresponding_author_last_name  \\\n",
       "2512                           Kim, M   \n",
       "3397                         Zhang, L   \n",
       "3400                         Zhang, L   \n",
       "4068                         Davis, A   \n",
       "5222                        Santos, B   \n",
       "...                               ...   \n",
       "289765                        Chen, R   \n",
       "289783                       Zhang, L   \n",
       "291040                   Namdjoyan, S   \n",
       "291208                         Chu, H   \n",
       "291814                          Ma, Y   \n",
       "\n",
       "                              first and last names first_initials  \n",
       "2512               [Kim, Myung Sook, Kim, Miryang]             MS  \n",
       "3397                [Zhang, Li-Bing, Zhang, Liang]             LB  \n",
       "3400                [Zhang, Li-Bing, Zhang, Liang]             LB  \n",
       "4068            [Davis, Amy L., Davis, Anthony S.]             AS  \n",
       "5222         [Santos, Berta, Santos, Biclinski M.]             BM  \n",
       "...                                            ...            ...  \n",
       "289765                                          []            RK;  \n",
       "289783  [Zhang, Lilan, Zhang, Liemei, Zhang, Liwu]             LW  \n",
       "291040   [Namdjoyan, Shahram, Namdjoyan, Shahrokh]              S  \n",
       "291208                                          []             HM  \n",
       "291814                        [Ma, Yajie, Ma, Yan]              Y  \n",
       "\n",
       "[1462 rows x 5 columns]"
      ]
     },
     "execution_count": 66,
     "metadata": {},
     "output_type": "execute_result"
    }
   ],
   "source": [
    "mult_problems_df"
   ]
  },
  {
   "cell_type": "code",
   "execution_count": null,
   "id": "c2b1409d",
   "metadata": {},
   "outputs": [],
   "source": [
    "# step 1: look for first names with multiple words and match initials"
   ]
  },
  {
   "cell_type": "code",
   "execution_count": null,
   "id": "e83a6734",
   "metadata": {},
   "outputs": [],
   "source": [
    "# step 2: look for entries where only one of the given names contain both first initials"
   ]
  },
  {
   "cell_type": "code",
   "execution_count": null,
   "id": "0f7ecd13",
   "metadata": {},
   "outputs": [],
   "source": [
    "# step 3: check the rest of the names manually"
   ]
  },
  {
   "cell_type": "markdown",
   "id": "087553c2",
   "metadata": {},
   "source": [
    "#### Special case 4. last name does not match any author full name\n",
    "\n",
    "Solution: Allow one insertion and deletion. This is because many of these names are German names missing an e, or mutli-part last names with inconsistent capitalization. This also fixes general typos."
   ]
  },
  {
   "cell_type": "code",
   "execution_count": 36,
   "id": "2d49c6e4",
   "metadata": {},
   "outputs": [],
   "source": [
    "# get df with all entries that did not find any author matching corresp. author last name\n",
    "no_authors = []\n",
    "\n",
    "for i in no_initials.index:\n",
    "    if len(no_initials['first and last names'][i]) == 0:\n",
    "        no_authors.append(i)\n",
    "        \n",
    "no_authors_df = no_initials.loc[no_authors]"
   ]
  },
  {
   "cell_type": "code",
   "execution_count": 38,
   "id": "aae2cc38",
   "metadata": {},
   "outputs": [],
   "source": [
    "# the new last names are pulled from the list of all authors based on some regex replacement\n",
    "new_last_names = []\n",
    "\n",
    "for i in list(no_authors_df.index):\n",
    "    old_last_name = no_authors_df.loc[i]['Corresponding_author_last_name']\n",
    "    author_full_name = no_authors_df.loc[i]['Author Full Names']\n",
    "    # if the old last name is one insertion away from something in the author full names, then consider it a match\n",
    "    new_last_name = regex.findall(\"(\"+old_last_name+\"){i<=1,d<=1}\", author_full_name, overlapped=True)\n",
    "    # if there are still no matches, ignore for now\n",
    "    if len(new_last_name) == 0:\n",
    "        pass\n",
    "    \n",
    "    else:\n",
    "        new_last_names.append([i,new_last_name[0]])"
   ]
  },
  {
   "cell_type": "code",
   "execution_count": 39,
   "id": "cac0ccca",
   "metadata": {},
   "outputs": [],
   "source": [
    "# replace last names in old dataframe with new last names (which contain an extra letter)\n",
    "for i in range(len(new_last_names)):\n",
    "    no_authors_df.loc[new_last_names[i][0]]['Corresponding_author_last_name'] = new_last_names[i][1]"
   ]
  },
  {
   "cell_type": "code",
   "execution_count": 40,
   "id": "af9d9186",
   "metadata": {},
   "outputs": [],
   "source": [
    "# look again to match the updated last names with the full author list\n",
    "no_authors_df[\"first and last names\"]=[re.findall(no_authors_df.loc[i]['Corresponding_author_last_name']+\"+[^;]*\", no_authors_df.loc[i]['Author Full Names']) for i in no_authors_df.index]"
   ]
  },
  {
   "cell_type": "code",
   "execution_count": 41,
   "id": "ecb12b5d",
   "metadata": {},
   "outputs": [
    {
     "data": {
      "text/html": [
       "<div>\n",
       "<style scoped>\n",
       "    .dataframe tbody tr th:only-of-type {\n",
       "        vertical-align: middle;\n",
       "    }\n",
       "\n",
       "    .dataframe tbody tr th {\n",
       "        vertical-align: top;\n",
       "    }\n",
       "\n",
       "    .dataframe thead th {\n",
       "        text-align: right;\n",
       "    }\n",
       "</style>\n",
       "<table border=\"1\" class=\"dataframe\">\n",
       "  <thead>\n",
       "    <tr style=\"text-align: right;\">\n",
       "      <th></th>\n",
       "      <th>Author Full Names</th>\n",
       "      <th>Corresponding author Addresses</th>\n",
       "      <th>Corresponding_author_last_name</th>\n",
       "      <th>first and last names</th>\n",
       "    </tr>\n",
       "  </thead>\n",
       "  <tbody>\n",
       "    <tr>\n",
       "      <th>200</th>\n",
       "      <td>Floethe, Carla R.; Molis, Markus; Kruse, Inken...</td>\n",
       "      <td>Flothe, CR (corresponding author), Alfred Wege...</td>\n",
       "      <td>Floethe</td>\n",
       "      <td>[Floethe, Carla R.]</td>\n",
       "    </tr>\n",
       "    <tr>\n",
       "      <th>362</th>\n",
       "      <td>Parys, Sabine; Kehraus, Stefan; Pete, Romain; ...</td>\n",
       "      <td>Konig, GM (corresponding author), Inst Pharmac...</td>\n",
       "      <td>Koenig</td>\n",
       "      <td>[Koenig, Gabriele M.]</td>\n",
       "    </tr>\n",
       "    <tr>\n",
       "      <th>376</th>\n",
       "      <td>Krueger, Thomas; Oelmueller, Ralf; Luckas, Bernd</td>\n",
       "      <td>Kruger, T (corresponding author), Univ Jena, I...</td>\n",
       "      <td>Krueger</td>\n",
       "      <td>[Krueger, Thomas]</td>\n",
       "    </tr>\n",
       "    <tr>\n",
       "      <th>528</th>\n",
       "      <td>Ni-Ni-Win; Hanyuda, Takeaki; Draisma, Stefano ...</td>\n",
       "      <td>Ni-Ni-Win (corresponding author), Kobe Univ, G...</td>\n",
       "      <td>Ni-Ni-Win (corresponding author)</td>\n",
       "      <td>[]</td>\n",
       "    </tr>\n",
       "    <tr>\n",
       "      <th>603</th>\n",
       "      <td>Demchenko, Eduard; Mikhailyuk, Tatiana; Colema...</td>\n",
       "      <td>Proschold, T (corresponding author), Brown Uni...</td>\n",
       "      <td>Proeschold</td>\n",
       "      <td>[Proeschold, Thomas]</td>\n",
       "    </tr>\n",
       "    <tr>\n",
       "      <th>...</th>\n",
       "      <td>...</td>\n",
       "      <td>...</td>\n",
       "      <td>...</td>\n",
       "      <td>...</td>\n",
       "    </tr>\n",
       "    <tr>\n",
       "      <th>290882</th>\n",
       "      <td>Oeztuerk, Zahide Neslihan; Greiner, Steffen; R...</td>\n",
       "      <td>Ozturk, ZN (corresponding author), Heidelberg ...</td>\n",
       "      <td>ztuerk</td>\n",
       "      <td>[ztuerk, Zahide Neslihan]</td>\n",
       "    </tr>\n",
       "    <tr>\n",
       "      <th>290935</th>\n",
       "      <td>SevgI, Tuba; DemIrkan, Elif</td>\n",
       "      <td>Sevgi, T (corresponding author), Bursa Uludag ...</td>\n",
       "      <td>SevgI</td>\n",
       "      <td>[SevgI, Tuba]</td>\n",
       "    </tr>\n",
       "    <tr>\n",
       "      <th>291047</th>\n",
       "      <td>Trimanto; Hapsari, Lia; Budiharta, Sugeng</td>\n",
       "      <td>Trimanto (corresponding author), Indonesian In...</td>\n",
       "      <td>Trimanto (corresponding author)</td>\n",
       "      <td>[]</td>\n",
       "    </tr>\n",
       "    <tr>\n",
       "      <th>291208</th>\n",
       "      <td>Thanh Son Lo; Hoang Duc Le; Vu Thanh Thanh Ngu...</td>\n",
       "      <td>Chu, HM (corresponding author), Thai Nguyen Un...</td>\n",
       "      <td>Chu</td>\n",
       "      <td>[ Chu,  Chu]</td>\n",
       "    </tr>\n",
       "    <tr>\n",
       "      <th>291288</th>\n",
       "      <td>Zoerb, Christian; Sumer, Ali; Sungur, Ali; Flo...</td>\n",
       "      <td>Zorb, C (corresponding author), Univ Leipzig, ...</td>\n",
       "      <td>Zoerb</td>\n",
       "      <td>[Zoerb, Christian]</td>\n",
       "    </tr>\n",
       "  </tbody>\n",
       "</table>\n",
       "<p>1662 rows × 4 columns</p>\n",
       "</div>"
      ],
      "text/plain": [
       "                                        Author Full Names  \\\n",
       "200     Floethe, Carla R.; Molis, Markus; Kruse, Inken...   \n",
       "362     Parys, Sabine; Kehraus, Stefan; Pete, Romain; ...   \n",
       "376      Krueger, Thomas; Oelmueller, Ralf; Luckas, Bernd   \n",
       "528     Ni-Ni-Win; Hanyuda, Takeaki; Draisma, Stefano ...   \n",
       "603     Demchenko, Eduard; Mikhailyuk, Tatiana; Colema...   \n",
       "...                                                   ...   \n",
       "290882  Oeztuerk, Zahide Neslihan; Greiner, Steffen; R...   \n",
       "290935                        SevgI, Tuba; DemIrkan, Elif   \n",
       "291047          Trimanto; Hapsari, Lia; Budiharta, Sugeng   \n",
       "291208  Thanh Son Lo; Hoang Duc Le; Vu Thanh Thanh Ngu...   \n",
       "291288  Zoerb, Christian; Sumer, Ali; Sungur, Ali; Flo...   \n",
       "\n",
       "                           Corresponding author Addresses  \\\n",
       "200     Flothe, CR (corresponding author), Alfred Wege...   \n",
       "362     Konig, GM (corresponding author), Inst Pharmac...   \n",
       "376     Kruger, T (corresponding author), Univ Jena, I...   \n",
       "528     Ni-Ni-Win (corresponding author), Kobe Univ, G...   \n",
       "603     Proschold, T (corresponding author), Brown Uni...   \n",
       "...                                                   ...   \n",
       "290882  Ozturk, ZN (corresponding author), Heidelberg ...   \n",
       "290935  Sevgi, T (corresponding author), Bursa Uludag ...   \n",
       "291047  Trimanto (corresponding author), Indonesian In...   \n",
       "291208  Chu, HM (corresponding author), Thai Nguyen Un...   \n",
       "291288  Zorb, C (corresponding author), Univ Leipzig, ...   \n",
       "\n",
       "          Corresponding_author_last_name       first and last names  \n",
       "200                              Floethe        [Floethe, Carla R.]  \n",
       "362                               Koenig      [Koenig, Gabriele M.]  \n",
       "376                              Krueger          [Krueger, Thomas]  \n",
       "528     Ni-Ni-Win (corresponding author)                         []  \n",
       "603                           Proeschold       [Proeschold, Thomas]  \n",
       "...                                  ...                        ...  \n",
       "290882                            ztuerk  [ztuerk, Zahide Neslihan]  \n",
       "290935                             SevgI              [SevgI, Tuba]  \n",
       "291047   Trimanto (corresponding author)                         []  \n",
       "291208                               Chu               [ Chu,  Chu]  \n",
       "291288                             Zoerb         [Zoerb, Christian]  \n",
       "\n",
       "[1662 rows x 4 columns]"
      ]
     },
     "execution_count": 41,
     "metadata": {},
     "output_type": "execute_result"
    }
   ],
   "source": [
    "no_authors_df"
   ]
  },
  {
   "cell_type": "code",
   "execution_count": 42,
   "id": "39983a66",
   "metadata": {},
   "outputs": [],
   "source": [
    "# Now look to see what's remaining after fuzzy matching\n",
    "no_authors2 = []\n",
    "\n",
    "for i in no_authors_df.index:\n",
    "    if len(no_authors_df['first and last names'][i])<1:\n",
    "        no_authors2.append(i)"
   ]
  },
  {
   "cell_type": "code",
   "execution_count": 43,
   "id": "a476b19e",
   "metadata": {},
   "outputs": [],
   "source": [
    "no_authors_df2 = no_authors_df.loc[no_authors2]"
   ]
  },
  {
   "cell_type": "code",
   "execution_count": 44,
   "id": "060c1994",
   "metadata": {},
   "outputs": [
    {
     "data": {
      "text/html": [
       "<div>\n",
       "<style scoped>\n",
       "    .dataframe tbody tr th:only-of-type {\n",
       "        vertical-align: middle;\n",
       "    }\n",
       "\n",
       "    .dataframe tbody tr th {\n",
       "        vertical-align: top;\n",
       "    }\n",
       "\n",
       "    .dataframe thead th {\n",
       "        text-align: right;\n",
       "    }\n",
       "</style>\n",
       "<table border=\"1\" class=\"dataframe\">\n",
       "  <thead>\n",
       "    <tr style=\"text-align: right;\">\n",
       "      <th></th>\n",
       "      <th>Author Full Names</th>\n",
       "      <th>Corresponding author Addresses</th>\n",
       "      <th>Corresponding_author_last_name</th>\n",
       "      <th>first and last names</th>\n",
       "    </tr>\n",
       "  </thead>\n",
       "  <tbody>\n",
       "    <tr>\n",
       "      <th>528</th>\n",
       "      <td>Ni-Ni-Win; Hanyuda, Takeaki; Draisma, Stefano ...</td>\n",
       "      <td>Ni-Ni-Win (corresponding author), Kobe Univ, G...</td>\n",
       "      <td>Ni-Ni-Win (corresponding author)</td>\n",
       "      <td>[]</td>\n",
       "    </tr>\n",
       "    <tr>\n",
       "      <th>15094</th>\n",
       "      <td>Moothoo-Padayachie, Anushka; Varghese, Boby; P...</td>\n",
       "      <td>Sershen (corresponding author), Univ KwaZulu N...</td>\n",
       "      <td>Sershen (corresponding author)</td>\n",
       "      <td>[]</td>\n",
       "    </tr>\n",
       "    <tr>\n",
       "      <th>16553</th>\n",
       "      <td>Nie; Zhao, Z. P.; Chen, G. P.; Zhang, B.; Ye, ...</td>\n",
       "      <td>Nie (corresponding author), Chongqing Univ, Bi...</td>\n",
       "      <td>Nie (corresponding author)</td>\n",
       "      <td>[]</td>\n",
       "    </tr>\n",
       "    <tr>\n",
       "      <th>18015</th>\n",
       "      <td>Ikram-Ul-Haq</td>\n",
       "      <td>Ikram-Ul-Haq (corresponding author), Natl Inst...</td>\n",
       "      <td>Ikram-Ul-Haq (corresponding author)</td>\n",
       "      <td>[]</td>\n",
       "    </tr>\n",
       "    <tr>\n",
       "      <th>32514</th>\n",
       "      <td>Govindjee; Khanna, Rita; Zilinskas, Barbara</td>\n",
       "      <td>Govindjee (corresponding author), Univ Illinoi...</td>\n",
       "      <td>Govindjee (corresponding author)</td>\n",
       "      <td>[]</td>\n",
       "    </tr>\n",
       "    <tr>\n",
       "      <th>...</th>\n",
       "      <td>...</td>\n",
       "      <td>...</td>\n",
       "      <td>...</td>\n",
       "      <td>...</td>\n",
       "    </tr>\n",
       "    <tr>\n",
       "      <th>288417</th>\n",
       "      <td>Ardiansyah; Nada, Annisa; Rahmawati, Nuraini T...</td>\n",
       "      <td>Ardiansyah (corresponding author), Univ Bakrie...</td>\n",
       "      <td>Ardiansyah (corresponding author)</td>\n",
       "      <td>[]</td>\n",
       "    </tr>\n",
       "    <tr>\n",
       "      <th>288980</th>\n",
       "      <td>Rudiyansyah; Masriani; Mudianta, I. Wayan; Gar...</td>\n",
       "      <td>Rudiyansyah (corresponding author), Univ Tanju...</td>\n",
       "      <td>Rudiyansyah (corresponding author)</td>\n",
       "      <td>[]</td>\n",
       "    </tr>\n",
       "    <tr>\n",
       "      <th>289112</th>\n",
       "      <td>Fatema-Tuz-Zohora; Muhit, Md. Abdul; Hasan, Ch...</td>\n",
       "      <td>Fatema-Tuz-Zohora (corresponding author), Univ...</td>\n",
       "      <td>Fatema-Tuz-Zohora (corresponding author)</td>\n",
       "      <td>[]</td>\n",
       "    </tr>\n",
       "    <tr>\n",
       "      <th>290351</th>\n",
       "      <td>JamjanMeeboon; Takamatsu, Susumu</td>\n",
       "      <td>JamjanMeeboon (corresponding author), Mie Univ...</td>\n",
       "      <td>JamjanMeeboon (corresponding author)</td>\n",
       "      <td>[]</td>\n",
       "    </tr>\n",
       "    <tr>\n",
       "      <th>291047</th>\n",
       "      <td>Trimanto; Hapsari, Lia; Budiharta, Sugeng</td>\n",
       "      <td>Trimanto (corresponding author), Indonesian In...</td>\n",
       "      <td>Trimanto (corresponding author)</td>\n",
       "      <td>[]</td>\n",
       "    </tr>\n",
       "  </tbody>\n",
       "</table>\n",
       "<p>259 rows × 4 columns</p>\n",
       "</div>"
      ],
      "text/plain": [
       "                                        Author Full Names  \\\n",
       "528     Ni-Ni-Win; Hanyuda, Takeaki; Draisma, Stefano ...   \n",
       "15094   Moothoo-Padayachie, Anushka; Varghese, Boby; P...   \n",
       "16553   Nie; Zhao, Z. P.; Chen, G. P.; Zhang, B.; Ye, ...   \n",
       "18015                                        Ikram-Ul-Haq   \n",
       "32514         Govindjee; Khanna, Rita; Zilinskas, Barbara   \n",
       "...                                                   ...   \n",
       "288417  Ardiansyah; Nada, Annisa; Rahmawati, Nuraini T...   \n",
       "288980  Rudiyansyah; Masriani; Mudianta, I. Wayan; Gar...   \n",
       "289112  Fatema-Tuz-Zohora; Muhit, Md. Abdul; Hasan, Ch...   \n",
       "290351                   JamjanMeeboon; Takamatsu, Susumu   \n",
       "291047          Trimanto; Hapsari, Lia; Budiharta, Sugeng   \n",
       "\n",
       "                           Corresponding author Addresses  \\\n",
       "528     Ni-Ni-Win (corresponding author), Kobe Univ, G...   \n",
       "15094   Sershen (corresponding author), Univ KwaZulu N...   \n",
       "16553   Nie (corresponding author), Chongqing Univ, Bi...   \n",
       "18015   Ikram-Ul-Haq (corresponding author), Natl Inst...   \n",
       "32514   Govindjee (corresponding author), Univ Illinoi...   \n",
       "...                                                   ...   \n",
       "288417  Ardiansyah (corresponding author), Univ Bakrie...   \n",
       "288980  Rudiyansyah (corresponding author), Univ Tanju...   \n",
       "289112  Fatema-Tuz-Zohora (corresponding author), Univ...   \n",
       "290351  JamjanMeeboon (corresponding author), Mie Univ...   \n",
       "291047  Trimanto (corresponding author), Indonesian In...   \n",
       "\n",
       "                  Corresponding_author_last_name first and last names  \n",
       "528             Ni-Ni-Win (corresponding author)                   []  \n",
       "15094             Sershen (corresponding author)                   []  \n",
       "16553                 Nie (corresponding author)                   []  \n",
       "18015        Ikram-Ul-Haq (corresponding author)                   []  \n",
       "32514           Govindjee (corresponding author)                   []  \n",
       "...                                          ...                  ...  \n",
       "288417         Ardiansyah (corresponding author)                   []  \n",
       "288980        Rudiyansyah (corresponding author)                   []  \n",
       "289112  Fatema-Tuz-Zohora (corresponding author)                   []  \n",
       "290351      JamjanMeeboon (corresponding author)                   []  \n",
       "291047           Trimanto (corresponding author)                   []  \n",
       "\n",
       "[259 rows x 4 columns]"
      ]
     },
     "execution_count": 44,
     "metadata": {},
     "output_type": "execute_result"
    }
   ],
   "source": [
    "no_authors_df2"
   ]
  },
  {
   "cell_type": "code",
   "execution_count": 45,
   "id": "f1e56203",
   "metadata": {},
   "outputs": [
    {
     "data": {
      "text/plain": [
       "Amanullah (corresponding author)          19\n",
       "Govindjee (corresponding author)          15\n",
       "Sodmergen (corresponding author)          13\n",
       "Sershen (corresponding author)            10\n",
       "Inderjit (corresponding author)            9\n",
       "                                          ..\n",
       "Gayacharan (corresponding author)          1\n",
       "Veereshkumar (corresponding author)        1\n",
       "Lee Kong Chian Nat Hist Museum             1\n",
       "Thirthamallappa (corresponding author)     1\n",
       "Trimanto (corresponding author)            1\n",
       "Name: Corresponding_author_last_name, Length: 156, dtype: int64"
      ]
     },
     "execution_count": 45,
     "metadata": {},
     "output_type": "execute_result"
    }
   ],
   "source": [
    "# the remaining 259 entries are either authors with only one name or buildings or something \n",
    "# Single names are more common in the global south, so worth going through manually\n",
    "no_authors_df2['Corresponding_author_last_name'].value_counts()"
   ]
  },
  {
   "cell_type": "markdown",
   "id": "61837613",
   "metadata": {},
   "source": [
    "## Misc code below\n",
    "some random data exploration. looking at most common first names. adding names to orrigional dataframe. writing to csv for GenderAPI. "
   ]
  },
  {
   "cell_type": "code",
   "execution_count": null,
   "id": "60cd9758",
   "metadata": {
    "scrolled": true
   },
   "outputs": [],
   "source": [
    "#Make object with jsut the names \n",
    "names=data[\"first and last names\"].str.split(',', expand=True)\n"
   ]
  },
  {
   "cell_type": "code",
   "execution_count": null,
   "id": "6271f57d",
   "metadata": {},
   "outputs": [],
   "source": [
    "#Rename column. \n",
    "names = names.rename(columns={names.columns[0]: 'Last'})\n",
    "names = names.rename(columns={names.columns[1]: 'First'})\n",
    "names\n"
   ]
  },
  {
   "cell_type": "code",
   "execution_count": null,
   "id": "4bb894cc",
   "metadata": {},
   "outputs": [],
   "source": [
    "name_freq=names['First'].value_counts()\n",
    "name_freq"
   ]
  },
  {
   "cell_type": "code",
   "execution_count": null,
   "id": "71fd19fe",
   "metadata": {},
   "outputs": [],
   "source": [
    "#add new collums to origional df \n",
    "data = pd.concat([data, names], axis=1)"
   ]
  },
  {
   "cell_type": "code",
   "execution_count": null,
   "id": "8bf56c97",
   "metadata": {},
   "outputs": [],
   "source": [
    "#write data to csv. this is the fiel that will be submitted to GenderAPI and NamSor. just save the nationality, first, and last name collumns \n",
    "data.to_csv(\"~/Desktop/Postdoc_work/Projects/Participation_in_PlantSci/names_gender/Corresponding_author_names1.csv\", columns=[\"first and last names\", 'Corresponding_author_last_name', \"Author Full Names\", \"Corresponding author Nation\"])"
   ]
  },
  {
   "cell_type": "markdown",
   "id": "a7091328",
   "metadata": {},
   "source": [
    "# General problems"
   ]
  },
  {
   "cell_type": "markdown",
   "id": "37a9a79a",
   "metadata": {},
   "source": [
    "##### Things to spot-check"
   ]
  },
  {
   "cell_type": "code",
   "execution_count": null,
   "id": "b98df6ac",
   "metadata": {},
   "outputs": [],
   "source": [
    "data.loc[to_review]\n",
    "data.loc[Vietnamese_authors]\n",
    "data.loc[Other_authors]\n",
    "no_authors_df2\n",
    "mult_problems_df # check only after coding and running steps 1-3"
   ]
  },
  {
   "cell_type": "markdown",
   "id": "19774ef1",
   "metadata": {},
   "source": [
    "##### Md honorific\n",
    "\n",
    "Some South Asian authors have \"Md.\" or \"Md\" as their first name, which is an honorific/signifies \"Mohammed\". GenderAPI does not recognize this as a masculine name, so one solution is to replace the strings \"Md.\" or \"Md \" with \"Mohammed\", noting this is just for genderapi and that these authors do not actually use the name Mohammed. Another solution would be to update GenderAPI somehow to train it so that it knows Md. is masculine. Another solution is to just go in and manually assign these names a masculinity score of 1.0"
   ]
  },
  {
   "cell_type": "markdown",
   "id": "640e3def",
   "metadata": {},
   "source": [
    "##### Subproblem: Maiden names\n",
    "\n",
    "I think the code is ok with parenthesis now, but should double check that authors with maiden names are having their first names recognized"
   ]
  },
  {
   "cell_type": "markdown",
   "id": "425d8bbc",
   "metadata": {},
   "source": [
    "##### Ignore this"
   ]
  },
  {
   "cell_type": "code",
   "execution_count": 86,
   "id": "804eacbf",
   "metadata": {},
   "outputs": [],
   "source": [
    "testlist = [1,2,3,4]"
   ]
  },
  {
   "cell_type": "code",
   "execution_count": 87,
   "id": "fb5364b3",
   "metadata": {},
   "outputs": [
    {
     "name": "stdout",
     "output_type": "stream",
     "text": [
      "1\n",
      "3\n"
     ]
    }
   ],
   "source": [
    "for i in testlist:\n",
    "    print(i)\n",
    "    testlist.remove(i)"
   ]
  },
  {
   "cell_type": "code",
   "execution_count": 88,
   "id": "441f1f43",
   "metadata": {},
   "outputs": [
    {
     "data": {
      "text/plain": [
       "[2, 4]"
      ]
     },
     "execution_count": 88,
     "metadata": {},
     "output_type": "execute_result"
    }
   ],
   "source": [
    "testlist"
   ]
  },
  {
   "cell_type": "code",
   "execution_count": null,
   "id": "8425d6d8",
   "metadata": {},
   "outputs": [],
   "source": []
  }
 ],
 "metadata": {
  "kernelspec": {
   "display_name": "Python 3 (ipykernel)",
   "language": "python",
   "name": "python3"
  },
  "language_info": {
   "codemirror_mode": {
    "name": "ipython",
    "version": 3
   },
   "file_extension": ".py",
   "mimetype": "text/x-python",
   "name": "python",
   "nbconvert_exporter": "python",
   "pygments_lexer": "ipython3",
   "version": "3.8.13"
  }
 },
 "nbformat": 4,
 "nbformat_minor": 5
}
